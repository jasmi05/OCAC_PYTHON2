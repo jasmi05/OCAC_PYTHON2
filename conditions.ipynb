{
 "cells": [
  {
   "cell_type": "code",
   "execution_count": 2,
   "id": "5d81e013-72ee-4388-a571-96c6a9465f6e",
   "metadata": {},
   "outputs": [
    {
     "name": "stdout",
     "output_type": "stream",
     "text": [
      "HI\n",
      "JASMINE\n"
     ]
    }
   ],
   "source": [
    "if 1<2:\n",
    "     print('HI')\n",
    "     print('JASMINE')"
   ]
  },
  {
   "cell_type": "code",
   "execution_count": 3,
   "id": "07e4df6e-fcb6-4da0-b2da-3b97a780cd94",
   "metadata": {},
   "outputs": [],
   "source": [
    "if 1>2:\n",
    "    print('HI')"
   ]
  },
  {
   "cell_type": "code",
   "execution_count": 5,
   "id": "f227cc6e-f4d7-4601-bbf3-1020e62faae7",
   "metadata": {},
   "outputs": [
    {
     "name": "stdout",
     "output_type": "stream",
     "text": [
      "jasmine\n",
      "hiiiiii jasss\n"
     ]
    }
   ],
   "source": [
    "if 1<2:\n",
    "    print('jasmine')\n",
    "print('hiiiiii jasss')    "
   ]
  },
  {
   "cell_type": "code",
   "execution_count": 6,
   "id": "ffee6566-b63b-4cb4-900a-0c935759bc0c",
   "metadata": {},
   "outputs": [
    {
     "name": "stdout",
     "output_type": "stream",
     "text": [
      "hiiiiii jasss\n"
     ]
    }
   ],
   "source": [
    "if 1>2:\n",
    "    print('jasmine')\n",
    "print('hiiiiii jasss')  "
   ]
  },
  {
   "cell_type": "code",
   "execution_count": 7,
   "id": "68177ec1-b789-4761-a87d-87c2df54e27f",
   "metadata": {},
   "outputs": [
    {
     "name": "stdin",
     "output_type": "stream",
     "text": [
      "name jasmine\n"
     ]
    },
    {
     "name": "stdout",
     "output_type": "stream",
     "text": [
      "hiiiiii nickyy\n"
     ]
    }
   ],
   "source": [
    "name = input(\"name\")\n",
    "if name ==\"jasmine\":\n",
    "    print(\"hiiiiii nickyy\")"
   ]
  },
  {
   "cell_type": "code",
   "execution_count": 9,
   "id": "9ca64e8e-4b3f-4299-a65d-ed1b10131324",
   "metadata": {},
   "outputs": [
    {
     "name": "stdout",
     "output_type": "stream",
     "text": [
      "true\n"
     ]
    }
   ],
   "source": [
    "if 1<2:\n",
    "    print('true')\n",
    "else:\n",
    "    print('false')"
   ]
  },
  {
   "cell_type": "code",
   "execution_count": 10,
   "id": "469eb396-d45b-47bf-8fbb-7dd62278a401",
   "metadata": {},
   "outputs": [
    {
     "name": "stdout",
     "output_type": "stream",
     "text": [
      "false\n"
     ]
    }
   ],
   "source": [
    "if 1>2:\n",
    "    print('true')\n",
    "else:\n",
    "    print('false')"
   ]
  },
  {
   "cell_type": "code",
   "execution_count": 11,
   "id": "e9c99990-670d-4f41-8f15-63fcc6eafcab",
   "metadata": {},
   "outputs": [
    {
     "name": "stdin",
     "output_type": "stream",
     "text": [
      "number 10\n"
     ]
    },
    {
     "name": "stdout",
     "output_type": "stream",
     "text": [
      "10 even\n"
     ]
    }
   ],
   "source": [
    "x = int(input('number'))\n",
    "if (x%2==0):\n",
    "    print(x,'even')\n",
    "else:\n",
    "    print(x,'odd')"
   ]
  },
  {
   "cell_type": "code",
   "execution_count": 13,
   "id": "47e82cb5-75b5-4227-8eb2-ded0ea9bc0c6",
   "metadata": {},
   "outputs": [
    {
     "name": "stdin",
     "output_type": "stream",
     "text": [
      "enter name nicky\n"
     ]
    },
    {
     "name": "stdout",
     "output_type": "stream",
     "text": [
      "hello nicky good morning\n"
     ]
    }
   ],
   "source": [
    "name = input('enter name')\n",
    "if(name =='jasmine'):\n",
    "    print('hiiiiii have a good day')\n",
    "else:\n",
    "    print('hello',name,'good morning')"
   ]
  },
  {
   "cell_type": "code",
   "execution_count": 14,
   "id": "c8666319-cf26-4ca4-ba5e-45ac9ee7083c",
   "metadata": {},
   "outputs": [
    {
     "name": "stdout",
     "output_type": "stream",
     "text": [
      "ok\n"
     ]
    }
   ],
   "source": [
    "list = [1,2,3,4]\n",
    "if 1 in list:\n",
    "    print('ok')\n",
    "else:\n",
    "    print('not ok')"
   ]
  },
  {
   "cell_type": "code",
   "execution_count": 15,
   "id": "c8cce79f-b6a2-4e37-872e-8d99613e668c",
   "metadata": {},
   "outputs": [
    {
     "name": "stdout",
     "output_type": "stream",
     "text": [
      "ok\n"
     ]
    }
   ],
   "source": [
    "if 6 not in list:\n",
    "    print('ok')"
   ]
  },
  {
   "cell_type": "code",
   "execution_count": 16,
   "id": "63288a24-9003-4d38-a69a-4e4ee3e0e328",
   "metadata": {},
   "outputs": [
    {
     "name": "stdout",
     "output_type": "stream",
     "text": [
      "1st\n"
     ]
    }
   ],
   "source": [
    "if 1==1:\n",
    "    print('1st')\n",
    "elif 2==2:\n",
    "    print('2nd')"
   ]
  },
  {
   "cell_type": "code",
   "execution_count": 17,
   "id": "9101cfd4-b96e-4568-8de1-83be9bf7d127",
   "metadata": {},
   "outputs": [
    {
     "name": "stdout",
     "output_type": "stream",
     "text": [
      "grade A\n"
     ]
    }
   ],
   "source": [
    "y=93\n",
    "if y>90:\n",
    "    print('grade A')\n",
    "elif(y>80):\n",
    "    print('grade B')\n",
    "elif(y>70):\n",
    "    print('grade C')\n",
    "else:\n",
    "    print('fail')"
   ]
  },
  {
   "cell_type": "code",
   "execution_count": 18,
   "id": "73c44d83-881e-4d3a-810d-b651acc572c1",
   "metadata": {},
   "outputs": [
    {
     "name": "stdin",
     "output_type": "stream",
     "text": [
      "enter your favourite cartoon oggy \n"
     ]
    },
    {
     "name": "stdout",
     "output_type": "stream",
     "text": [
      "ok\n"
     ]
    }
   ],
   "source": [
    "cartoon = input(\"enter your favourite cartoon\")\n",
    "if (cartoon=='doraemon'):\n",
    "    print(\"excellent\")\n",
    "elif(cartoon == 'ninja hatori'):\n",
    "    print(\"very good\")\n",
    "elif(cartoon=='sinchan'):\n",
    "    print(\"good\")\n",
    "else:\n",
    "    print(\"ok\")"
   ]
  },
  {
   "cell_type": "code",
   "execution_count": 19,
   "id": "6c2feaf5-c5be-4b76-8610-b3b543adc4f3",
   "metadata": {},
   "outputs": [
    {
     "name": "stdin",
     "output_type": "stream",
     "text": [
      "enter number 30\n",
      "enter number 20\n"
     ]
    },
    {
     "name": "stdout",
     "output_type": "stream",
     "text": [
      "x1 is large\n"
     ]
    }
   ],
   "source": [
    "x1 = int(input(\"enter number\"))\n",
    "x2 = int(input(\"enter number\"))\n",
    "if (x1>x2):\n",
    "    print(\"x1 is large\")\n",
    "else:\n",
    "    print(\"x2 is large\")"
   ]
  },
  {
   "cell_type": "code",
   "execution_count": 20,
   "id": "251a4d24-96ca-4b76-97cf-a51c25767331",
   "metadata": {},
   "outputs": [
    {
     "name": "stdin",
     "output_type": "stream",
     "text": [
      "enter a number 12\n",
      "enter a number 10\n",
      "enter a number 50\n"
     ]
    },
    {
     "name": "stdout",
     "output_type": "stream",
     "text": [
      "x1 is largest\n"
     ]
    }
   ],
   "source": [
    "x1 = int(input(\"enter a number\"))\n",
    "x2 = int(input(\"enter a number\"))\n",
    "x3 = int(input(\"enter a number\"))\n",
    "if (x1>x2 and x2>x3):\n",
    "    print(\"x1 is largest\")\n",
    "elif (x1<x2 and x2>x3):\n",
    "    print(\"x2 is largest\")\n",
    "else:\n",
    "    print(\"x1 is largest\")"
   ]
  },
  {
   "cell_type": "code",
   "execution_count": 22,
   "id": "af05d1cb-7ea5-4b6a-8fdf-82e0d634880c",
   "metadata": {},
   "outputs": [
    {
     "name": "stdout",
     "output_type": "stream",
     "text": [
      "positive\n"
     ]
    }
   ],
   "source": [
    "n = 10\n",
    "if (n>=0):\n",
    "    if (n==0):\n",
    "        print(\"not\")\n",
    "    else:\n",
    "        print(\"positive\")\n",
    "else:\n",
    "    print(\"negative number\")"
   ]
  },
  {
   "cell_type": "code",
   "execution_count": 23,
   "id": "d5693ec3-1f7d-4f1c-bffa-94cef7227a0f",
   "metadata": {},
   "outputs": [
    {
     "name": "stdout",
     "output_type": "stream",
     "text": [
      "less than 3\n",
      "greater than 2\n"
     ]
    }
   ],
   "source": [
    "i = 2.3\n",
    "if (i<3):\n",
    "    print(\"less than 3\")\n",
    "    if(i > 2):\n",
    "        print(\"greater than 2\")\n",
    "elif(i<5):\n",
    "    print('less than 5')\n",
    "else:\n",
    "    print('5 or more')"
   ]
  },
  {
   "cell_type": "code",
   "execution_count": 28,
   "id": "6eb9ee2d-bc17-42d0-8ff3-418aaea5a006",
   "metadata": {},
   "outputs": [
    {
     "name": "stdin",
     "output_type": "stream",
     "text": [
      "enter your pin 7890\n",
      "with_draw amount: 60000\n"
     ]
    },
    {
     "name": "stdout",
     "output_type": "stream",
     "text": [
      "60000 not sufficient funds\n"
     ]
    }
   ],
   "source": [
    "amount = 50000\n",
    "pin = 7890\n",
    "if(int(input(\"enter your pin\"))==7890):\n",
    "    with_draw=int(input(\"with_draw amount:\"))\n",
    "    if(with_draw<=amount):\n",
    "                        print(with_draw,'successfully transaction completed')\n",
    "    else:\n",
    "                        print(with_draw,'not sufficient funds')\n",
    "else:\n",
    "                        print('invalid pin number')\n",
    "                  "
   ]
  },
  {
   "cell_type": "code",
   "execution_count": null,
   "id": "a0d77340-c4df-4c5a-949a-ca3571b2e68c",
   "metadata": {},
   "outputs": [],
   "source": []
  }
 ],
 "metadata": {
  "kernelspec": {
   "display_name": "Python 3 (ipykernel)",
   "language": "python",
   "name": "python3"
  },
  "language_info": {
   "codemirror_mode": {
    "name": "ipython",
    "version": 3
   },
   "file_extension": ".py",
   "mimetype": "text/x-python",
   "name": "python",
   "nbconvert_exporter": "python",
   "pygments_lexer": "ipython3",
   "version": "3.11.7"
  }
 },
 "nbformat": 4,
 "nbformat_minor": 5
}
