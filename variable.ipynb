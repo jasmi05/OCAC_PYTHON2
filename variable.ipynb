{
 "cells": [
  {
   "cell_type": "code",
   "execution_count": 1,
   "id": "9d4c9264-c303-44c3-83e3-e7e10329deba",
   "metadata": {},
   "outputs": [
    {
     "data": {
      "text/plain": [
       "' JAS'"
      ]
     },
     "execution_count": 1,
     "metadata": {},
     "output_type": "execute_result"
    }
   ],
   "source": [
    "c =' JAS'\n",
    "\n",
    "c"
   ]
  },
  {
   "cell_type": "code",
   "execution_count": 2,
   "id": "8d972fff-a79e-45c4-b2e3-f025f025a5e0",
   "metadata": {},
   "outputs": [
    {
     "ename": "NameError",
     "evalue": "name 'b' is not defined",
     "output_type": "error",
     "traceback": [
      "\u001b[1;31m---------------------------------------------------------------------------\u001b[0m",
      "\u001b[1;31mNameError\u001b[0m                                 Traceback (most recent call last)",
      "Cell \u001b[1;32mIn[2], line 1\u001b[0m\n\u001b[1;32m----> 1\u001b[0m \u001b[38;5;28mprint\u001b[39m(b)\n",
      "\u001b[1;31mNameError\u001b[0m: name 'b' is not defined"
     ]
    }
   ],
   "source": [
    "print(b)"
   ]
  },
  {
   "cell_type": "code",
   "execution_count": 3,
   "id": "95835cc5-fff9-4d53-be87-2fe0fa7f70e8",
   "metadata": {},
   "outputs": [
    {
     "data": {
      "text/plain": [
       "50"
      ]
     },
     "execution_count": 3,
     "metadata": {},
     "output_type": "execute_result"
    }
   ],
   "source": [
    "a =50\n",
    "a"
   ]
  },
  {
   "cell_type": "code",
   "execution_count": 4,
   "id": "e32061b4-9907-4d23-936e-a4051bc3818d",
   "metadata": {},
   "outputs": [
    {
     "data": {
      "text/plain": [
       "str"
      ]
     },
     "execution_count": 4,
     "metadata": {},
     "output_type": "execute_result"
    }
   ],
   "source": [
    "type(c)"
   ]
  },
  {
   "cell_type": "code",
   "execution_count": 5,
   "id": "a8755f03-8c41-43e1-b5fb-2e9d798f15c7",
   "metadata": {},
   "outputs": [
    {
     "ename": "NameError",
     "evalue": "name 'b' is not defined",
     "output_type": "error",
     "traceback": [
      "\u001b[1;31m---------------------------------------------------------------------------\u001b[0m",
      "\u001b[1;31mNameError\u001b[0m                                 Traceback (most recent call last)",
      "Cell \u001b[1;32mIn[5], line 1\u001b[0m\n\u001b[1;32m----> 1\u001b[0m \u001b[38;5;28mtype\u001b[39m(b)\n",
      "\u001b[1;31mNameError\u001b[0m: name 'b' is not defined"
     ]
    }
   ],
   "source": [
    "type(b)"
   ]
  },
  {
   "cell_type": "code",
   "execution_count": 6,
   "id": "73f90f5d-7a98-4ad4-82b5-ae53647fce25",
   "metadata": {},
   "outputs": [
    {
     "data": {
      "text/plain": [
       "' JAS'"
      ]
     },
     "execution_count": 6,
     "metadata": {},
     "output_type": "execute_result"
    }
   ],
   "source": [
    "b=' JAS'\n",
    "b"
   ]
  },
  {
   "cell_type": "code",
   "execution_count": 7,
   "id": "355e7e06-b83c-43dd-a6a7-725c8a0357d5",
   "metadata": {},
   "outputs": [
    {
     "data": {
      "text/plain": [
       "80"
      ]
     },
     "execution_count": 7,
     "metadata": {},
     "output_type": "execute_result"
    }
   ],
   "source": [
    "ib =80\n",
    "ib"
   ]
  },
  {
   "cell_type": "code",
   "execution_count": 8,
   "id": "cfae2c01-fd7f-49a4-8322-41e517aeb69d",
   "metadata": {},
   "outputs": [
    {
     "data": {
      "text/plain": [
       "'80'"
      ]
     },
     "execution_count": 8,
     "metadata": {},
     "output_type": "execute_result"
    }
   ],
   "source": [
    "c =\"80\"\n",
    "c"
   ]
  },
  {
   "cell_type": "code",
   "execution_count": 9,
   "id": "c90f3aac-60f2-406a-b67b-75c1c0bb854e",
   "metadata": {},
   "outputs": [
    {
     "data": {
      "text/plain": [
       "str"
      ]
     },
     "execution_count": 9,
     "metadata": {},
     "output_type": "execute_result"
    }
   ],
   "source": [
    "type(c)"
   ]
  },
  {
   "cell_type": "code",
   "execution_count": 10,
   "id": "2a47c81b-1b72-4a37-b497-bc4cff753cee",
   "metadata": {},
   "outputs": [
    {
     "data": {
      "text/plain": [
       "'80a'"
      ]
     },
     "execution_count": 10,
     "metadata": {},
     "output_type": "execute_result"
    }
   ],
   "source": [
    "cd = \"80a\"\n",
    "cd"
   ]
  },
  {
   "cell_type": "code",
   "execution_count": 11,
   "id": "a117346b-4bfd-473a-9ce8-5f8ec72712e3",
   "metadata": {},
   "outputs": [
    {
     "data": {
      "text/plain": [
       "str"
      ]
     },
     "execution_count": 11,
     "metadata": {},
     "output_type": "execute_result"
    }
   ],
   "source": [
    "type(cd)"
   ]
  },
  {
   "cell_type": "code",
   "execution_count": 12,
   "id": "86484721-e890-44c5-b7f1-b4588e0de20a",
   "metadata": {},
   "outputs": [
    {
     "name": "stdout",
     "output_type": "stream",
     "text": [
      "['False', 'None', 'True', 'and', 'as', 'assert', 'async', 'await', 'break', 'class', 'continue', 'def', 'del', 'elif', 'else', 'except', 'finally', 'for', 'from', 'global', 'if', 'import', 'in', 'is', 'lambda', 'nonlocal', 'not', 'or', 'pass', 'raise', 'return', 'try', 'while', 'with', 'yield']\n"
     ]
    }
   ],
   "source": [
    "import keyword\n",
    "print(keyword.kwlist)"
   ]
  },
  {
   "cell_type": "code",
   "execution_count": 13,
   "id": "61aa8eaa-1f0b-452c-b1ba-5a0294001b52",
   "metadata": {},
   "outputs": [
    {
     "data": {
      "text/plain": [
       "35"
      ]
     },
     "execution_count": 13,
     "metadata": {},
     "output_type": "execute_result"
    }
   ],
   "source": [
    "len(keyword.kwlist)"
   ]
  },
  {
   "cell_type": "code",
   "execution_count": 14,
   "id": "cd41bd62-317e-4257-aea4-1f448515668b",
   "metadata": {},
   "outputs": [
    {
     "data": {
      "text/plain": [
       "50"
      ]
     },
     "execution_count": 14,
     "metadata": {},
     "output_type": "execute_result"
    }
   ],
   "source": [
    "a1 =50\n",
    "a1"
   ]
  },
  {
   "cell_type": "code",
   "execution_count": 15,
   "id": "62753a3c-5f83-4740-a4dd-099fe3144de6",
   "metadata": {},
   "outputs": [
    {
     "ename": "SyntaxError",
     "evalue": "invalid decimal literal (466779400.py, line 1)",
     "output_type": "error",
     "traceback": [
      "\u001b[1;36m  Cell \u001b[1;32mIn[15], line 1\u001b[1;36m\u001b[0m\n\u001b[1;33m    1b = 90\u001b[0m\n\u001b[1;37m    ^\u001b[0m\n\u001b[1;31mSyntaxError\u001b[0m\u001b[1;31m:\u001b[0m invalid decimal literal\n"
     ]
    }
   ],
   "source": [
    "1b = 90\n",
    "1b"
   ]
  },
  {
   "cell_type": "code",
   "execution_count": 16,
   "id": "1e948cde-d521-4949-ab02-9501c2db4bf6",
   "metadata": {},
   "outputs": [
    {
     "ename": "SyntaxError",
     "evalue": "invalid syntax (4215880195.py, line 1)",
     "output_type": "error",
     "traceback": [
      "\u001b[1;36m  Cell \u001b[1;32mIn[16], line 1\u001b[1;36m\u001b[0m\n\u001b[1;33m    b$7 = 90\u001b[0m\n\u001b[1;37m     ^\u001b[0m\n\u001b[1;31mSyntaxError\u001b[0m\u001b[1;31m:\u001b[0m invalid syntax\n"
     ]
    }
   ],
   "source": [
    "b$7 = 90\n",
    "b$7"
   ]
  },
  {
   "cell_type": "code",
   "execution_count": 17,
   "id": "31919f77-080c-487f-a114-64d6b95fb78b",
   "metadata": {},
   "outputs": [
    {
     "data": {
      "text/plain": [
       "504"
      ]
     },
     "execution_count": 17,
     "metadata": {},
     "output_type": "execute_result"
    }
   ],
   "source": [
    "b_6 = 504\n",
    "b_6"
   ]
  },
  {
   "cell_type": "code",
   "execution_count": 18,
   "id": "920cfd9e-47c1-4066-8ba1-e587033800d7",
   "metadata": {},
   "outputs": [
    {
     "data": {
      "text/plain": [
       "2841267012752"
      ]
     },
     "execution_count": 18,
     "metadata": {},
     "output_type": "execute_result"
    }
   ],
   "source": [
    "V = 504\n",
    "V\n",
    "id(V)"
   ]
  },
  {
   "cell_type": "code",
   "execution_count": 19,
   "id": "6296f0c4-00d8-4054-a57e-17e303187f21",
   "metadata": {},
   "outputs": [
    {
     "data": {
      "text/plain": [
       "140709690265096"
      ]
     },
     "execution_count": 19,
     "metadata": {},
     "output_type": "execute_result"
    }
   ],
   "source": [
    "\n",
    "b = 88\n",
    "c = 86\n",
    "id(b)"
   ]
  },
  {
   "cell_type": "code",
   "execution_count": 20,
   "id": "07657978-1f96-455b-a2d4-b0f0da94e6d0",
   "metadata": {},
   "outputs": [
    {
     "data": {
      "text/plain": [
       "140709690265032"
      ]
     },
     "execution_count": 20,
     "metadata": {},
     "output_type": "execute_result"
    }
   ],
   "source": [
    "id(c)"
   ]
  },
  {
   "cell_type": "code",
   "execution_count": 21,
   "id": "1354ad5a-5a9f-488d-8006-592b2195abd3",
   "metadata": {},
   "outputs": [
    {
     "data": {
      "text/plain": [
       "140709690265096"
      ]
     },
     "execution_count": 21,
     "metadata": {},
     "output_type": "execute_result"
    }
   ],
   "source": [
    "d = 88\n",
    "id(d)"
   ]
  },
  {
   "cell_type": "code",
   "execution_count": 22,
   "id": "ab26673b-ce5f-4651-8cbe-0ebf6f1e2427",
   "metadata": {},
   "outputs": [
    {
     "data": {
      "text/plain": [
       "140709690264136"
      ]
     },
     "execution_count": 22,
     "metadata": {},
     "output_type": "execute_result"
    }
   ],
   "source": [
    "d = 58\n",
    "id(d)"
   ]
  },
  {
   "cell_type": "code",
   "execution_count": 23,
   "id": "a1efbdd7-8a81-418b-9156-d29e65fe4569",
   "metadata": {},
   "outputs": [
    {
     "name": "stdout",
     "output_type": "stream",
     "text": [
      "The summation of two numbers are 70\n"
     ]
    }
   ],
   "source": [
    "a = 20\n",
    "b = 50\n",
    "sum = a+b\n",
    "print(\"The summation of two numbers are\",sum)"
   ]
  },
  {
   "cell_type": "code",
   "execution_count": 24,
   "id": "3a25b984-45a8-4b4e-9dd2-095cf1d6b12f",
   "metadata": {},
   "outputs": [
    {
     "name": "stdout",
     "output_type": "stream",
     "text": [
      "The summation of two numbers are 70\n"
     ]
    }
   ],
   "source": [
    "a = 20\n",
    "b = 50\n",
    "sun = a+b\n",
    "print(\"The summation of two numbers are\",sum)"
   ]
  },
  {
   "cell_type": "code",
   "execution_count": 25,
   "id": "da79ca3f-fb52-4e40-98af-ea690a5d3edb",
   "metadata": {},
   "outputs": [
    {
     "data": {
      "text/plain": [
       "('The summation of two numbers are', 70)"
      ]
     },
     "execution_count": 25,
     "metadata": {},
     "output_type": "execute_result"
    }
   ],
   "source": [
    "\"The summation of two numbers are\",sum"
   ]
  },
  {
   "cell_type": "code",
   "execution_count": 26,
   "id": "76591faf-0d6f-488a-ad36-bbd75c48a5b7",
   "metadata": {},
   "outputs": [
    {
     "data": {
      "text/plain": [
       "70"
      ]
     },
     "execution_count": 26,
     "metadata": {},
     "output_type": "execute_result"
    }
   ],
   "source": [
    "sum"
   ]
  },
  {
   "cell_type": "code",
   "execution_count": 27,
   "id": "a4b91c24-83b2-4313-a8dc-66afd487f226",
   "metadata": {},
   "outputs": [
    {
     "data": {
      "text/plain": [
       "9"
      ]
     },
     "execution_count": 27,
     "metadata": {},
     "output_type": "execute_result"
    }
   ],
   "source": [
    "a = b =c = 9\n",
    "a"
   ]
  },
  {
   "cell_type": "code",
   "execution_count": 28,
   "id": "bbe2a51b-2d87-4312-9e11-ee59a9fd18df",
   "metadata": {},
   "outputs": [
    {
     "data": {
      "text/plain": [
       "9"
      ]
     },
     "execution_count": 28,
     "metadata": {},
     "output_type": "execute_result"
    }
   ],
   "source": [
    "b"
   ]
  },
  {
   "cell_type": "code",
   "execution_count": 29,
   "id": "e3dead03-45c8-40ff-a52c-02d50818650a",
   "metadata": {},
   "outputs": [
    {
     "data": {
      "text/plain": [
       "9"
      ]
     },
     "execution_count": 29,
     "metadata": {},
     "output_type": "execute_result"
    }
   ],
   "source": [
    "c"
   ]
  },
  {
   "cell_type": "code",
   "execution_count": 30,
   "id": "ffc69038-56d5-487c-9104-76a77ac65d22",
   "metadata": {},
   "outputs": [
    {
     "name": "stdout",
     "output_type": "stream",
     "text": [
      "85 63 41\n"
     ]
    }
   ],
   "source": [
    "a = 85\n",
    "b = 63\n",
    "c = 41\n",
    "abc = 85\n",
    "print(a,b,c)"
   ]
  },
  {
   "cell_type": "code",
   "execution_count": 31,
   "id": "5232050a-8cab-402c-8dcb-05be4fef07fe",
   "metadata": {},
   "outputs": [
    {
     "name": "stdout",
     "output_type": "stream",
     "text": [
      "85\n"
     ]
    }
   ],
   "source": [
    "print(abc)"
   ]
  },
  {
   "cell_type": "code",
   "execution_count": 32,
   "id": "70b8dde4-467a-4f52-b316-ad94a6325f64",
   "metadata": {},
   "outputs": [
    {
     "name": "stdout",
     "output_type": "stream",
     "text": [
      "60\n"
     ]
    }
   ],
   "source": [
    "a = 60\n",
    "print(a)"
   ]
  },
  {
   "cell_type": "code",
   "execution_count": 33,
   "id": "a2736d63-f288-4f43-a0b2-d2799e99a118",
   "metadata": {},
   "outputs": [],
   "source": [
    "#Delete Element\n",
    "del(a)"
   ]
  },
  {
   "cell_type": "code",
   "execution_count": 34,
   "id": "33fec753-4669-4b7f-9586-6b79fc095fb1",
   "metadata": {},
   "outputs": [
    {
     "ename": "NameError",
     "evalue": "name 'a' is not defined",
     "output_type": "error",
     "traceback": [
      "\u001b[1;31m---------------------------------------------------------------------------\u001b[0m",
      "\u001b[1;31mNameError\u001b[0m                                 Traceback (most recent call last)",
      "Cell \u001b[1;32mIn[34], line 1\u001b[0m\n\u001b[1;32m----> 1\u001b[0m \u001b[38;5;28mprint\u001b[39m(a)\n",
      "\u001b[1;31mNameError\u001b[0m: name 'a' is not defined"
     ]
    }
   ],
   "source": [
    "print(a)"
   ]
  },
  {
   "cell_type": "code",
   "execution_count": 35,
   "id": "d6b6b060-08a0-4840-ab3f-5e86baf2c259",
   "metadata": {},
   "outputs": [],
   "source": [
    "# to c lear van ab l e expl orer.\n",
    "a=20\n",
    "b=30\n",
    "c=40\n",
    "del a,b"
   ]
  },
  {
   "cell_type": "code",
   "execution_count": 36,
   "id": "65f015ef-8a7e-4980-ae4e-f2c3011600c4",
   "metadata": {},
   "outputs": [
    {
     "name": "stdout",
     "output_type": "stream",
     "text": [
      "40\n"
     ]
    }
   ],
   "source": [
    "print(c)"
   ]
  },
  {
   "cell_type": "code",
   "execution_count": 37,
   "id": "35964e3e-2b6b-4c74-a891-80d63f17ca39",
   "metadata": {},
   "outputs": [
    {
     "ename": "SyntaxError",
     "evalue": "invalid decimal literal (2090317641.py, line 1)",
     "output_type": "error",
     "traceback": [
      "\u001b[1;36m  Cell \u001b[1;32mIn[37], line 1\u001b[1;36m\u001b[0m\n\u001b[1;33m    1a= 20\u001b[0m\n\u001b[1;37m    ^\u001b[0m\n\u001b[1;31mSyntaxError\u001b[0m\u001b[1;31m:\u001b[0m invalid decimal literal\n"
     ]
    }
   ],
   "source": [
    "1a= 20"
   ]
  },
  {
   "cell_type": "code",
   "execution_count": 38,
   "id": "61593f3e-f9e0-4436-b35b-196f6fd7c27d",
   "metadata": {},
   "outputs": [
    {
     "ename": "SyntaxError",
     "evalue": "cannot assign to expression here. Maybe you meant '==' instead of '='? (4286787879.py, line 1)",
     "output_type": "error",
     "traceback": [
      "\u001b[1;36m  Cell \u001b[1;32mIn[38], line 1\u001b[1;36m\u001b[0m\n\u001b[1;33m    a@1= 40\u001b[0m\n\u001b[1;37m    ^\u001b[0m\n\u001b[1;31mSyntaxError\u001b[0m\u001b[1;31m:\u001b[0m cannot assign to expression here. Maybe you meant '==' instead of '='?\n"
     ]
    }
   ],
   "source": [
    "a@1= 40"
   ]
  },
  {
   "cell_type": "code",
   "execution_count": 39,
   "id": "c0434151-eccb-4a77-9ede-23e12cbd3872",
   "metadata": {},
   "outputs": [
    {
     "name": "stdout",
     "output_type": "stream",
     "text": [
      "10 20 30\n"
     ]
    }
   ],
   "source": [
    "a=10\n",
    "b=20\n",
    "c=30\n",
    "print(a,b,c)"
   ]
  },
  {
   "cell_type": "code",
   "execution_count": 40,
   "id": "4054bc2f-071b-4ef5-ad9f-baf15565b494",
   "metadata": {},
   "outputs": [
    {
     "name": "stdout",
     "output_type": "stream",
     "text": [
      "10 20 30\n"
     ]
    }
   ],
   "source": [
    "# we can as ss ign /r u L tiple van ab les in a s i ngl e L One\n",
    "a,b,c = 10,20,30\n",
    "print(a,b,c)"
   ]
  },
  {
   "cell_type": "code",
   "execution_count": 41,
   "id": "b5dde6aa-4e2a-439e-aefa-a849de341e26",
   "metadata": {},
   "outputs": [
    {
     "name": "stdout",
     "output_type": "stream",
     "text": [
      "AI\n"
     ]
    }
   ],
   "source": [
    "# as s ign the same val ue to /r uL tip Le var i ab Les at once\n",
    "a = b = c = \"AI\"\n",
    "print(c)"
   ]
  }
 ],
 "metadata": {
  "kernelspec": {
   "display_name": "Python 3 (ipykernel)",
   "language": "python",
   "name": "python3"
  },
  "language_info": {
   "codemirror_mode": {
    "name": "ipython",
    "version": 3
   },
   "file_extension": ".py",
   "mimetype": "text/x-python",
   "name": "python",
   "nbconvert_exporter": "python",
   "pygments_lexer": "ipython3",
   "version": "3.11.7"
  }
 },
 "nbformat": 4,
 "nbformat_minor": 5
}
