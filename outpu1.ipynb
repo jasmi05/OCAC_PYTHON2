{
 "cells": [
  {
   "cell_type": "code",
   "execution_count": 40,
   "id": "ab621925-74a1-49be-981a-704d6acfe230",
   "metadata": {},
   "outputs": [
    {
     "name": "stdout",
     "output_type": "stream",
     "text": [
      "3\n"
     ]
    }
   ],
   "source": [
    "print(3)\n"
   ]
  },
  {
   "cell_type": "code",
   "execution_count": 3,
   "id": "8241fe78-b9d3-4de7-917b-017934f251fd",
   "metadata": {},
   "outputs": [
    {
     "name": "stdout",
     "output_type": "stream",
     "text": [
      "10\n"
     ]
    }
   ],
   "source": [
    "a = 10\n",
    "print(a)"
   ]
  },
  {
   "cell_type": "code",
   "execution_count": 4,
   "id": "1c3279c9-2928-491f-aee2-c62457d34489",
   "metadata": {},
   "outputs": [
    {
     "name": "stdout",
     "output_type": "stream",
     "text": [
      "10\n"
     ]
    }
   ],
   "source": [
    "jas = 10\n",
    "print(jas)\n"
   ]
  },
  {
   "cell_type": "code",
   "execution_count": 5,
   "id": "43732afc-9bfe-4fc4-8987-7ec411992b68",
   "metadata": {},
   "outputs": [
    {
     "name": "stdout",
     "output_type": "stream",
     "text": [
      "10 20 30 50\n"
     ]
    }
   ],
   "source": [
    "a = 10\n",
    "b = 20\n",
    "c = 30\n",
    "d = 50\n",
    "print(a,b,c,d)\n"
   ]
  },
  {
   "cell_type": "code",
   "execution_count": 6,
   "id": "cff72a94-a1c9-4c24-aa64-94fa8c4b92e7",
   "metadata": {},
   "outputs": [
    {
     "name": "stdout",
     "output_type": "stream",
     "text": [
      "2\n"
     ]
    },
    {
     "data": {
      "text/plain": [
       "int"
      ]
     },
     "execution_count": 6,
     "metadata": {},
     "output_type": "execute_result"
    }
   ],
   "source": [
    "a = 2\n",
    "print(a)\n",
    "type(a)"
   ]
  },
  {
   "cell_type": "code",
   "execution_count": 7,
   "id": "1ee4f460-1a28-4c01-905b-b1598a76743a",
   "metadata": {},
   "outputs": [
    {
     "name": "stdout",
     "output_type": "stream",
     "text": [
      "10:20:30:40\n"
     ]
    }
   ],
   "source": [
    "a = 10\n",
    "b = 20\n",
    "c = 30\n",
    "d = 40\n",
    "print(a,b,c,d,sep = \":\")"
   ]
  },
  {
   "cell_type": "code",
   "execution_count": 8,
   "id": "808d6d9c-6123-4f7a-8e9f-710cfb68ae65",
   "metadata": {},
   "outputs": [
    {
     "name": "stdout",
     "output_type": "stream",
     "text": [
      "the value of a: 10\n"
     ]
    }
   ],
   "source": [
    "a = 10\n",
    "print(\"the value of a:\",a)"
   ]
  },
  {
   "cell_type": "code",
   "execution_count": 9,
   "id": "3d22bc85-aa70-4bdc-a1f0-e3dbf86815ad",
   "metadata": {},
   "outputs": [],
   "source": [
    "fname = 'sas'\n",
    "lname = 'jas'\n"
   ]
  },
  {
   "cell_type": "code",
   "execution_count": 10,
   "id": "bd786d78-312a-4ed8-9c30-59eba4fcf89c",
   "metadata": {},
   "outputs": [
    {
     "name": "stdout",
     "output_type": "stream",
     "text": [
      "NAME sas jas\n"
     ]
    }
   ],
   "source": [
    "print(\"NAME\",fname,lname)"
   ]
  },
  {
   "cell_type": "code",
   "execution_count": 11,
   "id": "2e369c21-52c2-456e-91a1-caa4324f073c",
   "metadata": {},
   "outputs": [
    {
     "name": "stdout",
     "output_type": "stream",
     "text": [
      "My fname is: sas and lname is: jas\n"
     ]
    }
   ],
   "source": [
    "print(\"My fname is:\",fname,\"and lname is:\",lname)"
   ]
  },
  {
   "cell_type": "code",
   "execution_count": 12,
   "id": "f5b9c8c8-14d1-4b6a-b248-2bf29df7d9b6",
   "metadata": {},
   "outputs": [
    {
     "name": "stdout",
     "output_type": "stream",
     "text": [
      "My fname is: sas and lname is: jas\n"
     ]
    }
   ],
   "source": [
    "print(\"My fname is: {} and lname is: {}\".format(fname,lname))"
   ]
  },
  {
   "cell_type": "code",
   "execution_count": 13,
   "id": "3879978b-bf8d-4d63-b886-a31ed88d745a",
   "metadata": {},
   "outputs": [
    {
     "name": "stdout",
     "output_type": "stream",
     "text": [
      "My fname is: jas and last name  is : jas\n"
     ]
    }
   ],
   "source": [
    "print(\"My fname is: {f} and last name  is : {f}\".format(l=lname,f=lname))"
   ]
  },
  {
   "cell_type": "code",
   "execution_count": 14,
   "id": "37bf9874-46ca-421d-a46a-53968e3845f8",
   "metadata": {},
   "outputs": [
    {
     "name": "stdout",
     "output_type": "stream",
     "text": [
      "Hello jasmine goodmorning jasmine\n"
     ]
    }
   ],
   "source": [
    "print(\"Hello {name} {greeting} {name}\".format(name = \"jasmine\",greeting = \"goodmorning\"))"
   ]
  },
  {
   "cell_type": "code",
   "execution_count": 15,
   "id": "eebaaef7-526a-45b0-a55e-b0b7c0c6d5bd",
   "metadata": {},
   "outputs": [
    {
     "name": "stdout",
     "output_type": "stream",
     "text": [
      "The story of xy,yz,yy\n"
     ]
    }
   ],
   "source": [
    "print(\"The story of {},{},{other}\".format(\"xy\",\"yz\",other=\"yy\"))"
   ]
  },
  {
   "cell_type": "code",
   "execution_count": 16,
   "id": "3e0f315f-441f-445b-bfe8-39917bb61190",
   "metadata": {},
   "outputs": [
    {
     "name": "stdout",
     "output_type": "stream",
     "text": [
      "My num is:13 and my name is:jas\n"
     ]
    }
   ],
   "source": [
    "num = 13\n",
    "name = \"jas\"\n",
    "print(\"My num is:{one} and my name is:{two}\".format(one = num,two = name))"
   ]
  },
  {
   "cell_type": "code",
   "execution_count": 17,
   "id": "e0bd29da-b157-4b62-bb76-2969149fbe53",
   "metadata": {},
   "outputs": [
    {
     "name": "stdout",
     "output_type": "stream",
     "text": [
      "My num is :13 and my name is:jas\n"
     ]
    }
   ],
   "source": [
    "print(\"My num is :{} and my name is:{}\".format(num,name))"
   ]
  },
  {
   "cell_type": "code",
   "execution_count": 18,
   "id": "b895f3c1-3c06-4518-bf70-1e2a798b8e86",
   "metadata": {},
   "outputs": [
    {
     "name": "stdout",
     "output_type": "stream",
     "text": [
      "My name is : 13 and my name is: jas\n"
     ]
    }
   ],
   "source": [
    "print(\"My name is :\",num,\"and my name is:\",name)"
   ]
  }
 ],
 "metadata": {
  "kernelspec": {
   "display_name": "Python 3 (ipykernel)",
   "language": "python",
   "name": "python3"
  },
  "language_info": {
   "codemirror_mode": {
    "name": "ipython",
    "version": 3
   },
   "file_extension": ".py",
   "mimetype": "text/x-python",
   "name": "python",
   "nbconvert_exporter": "python",
   "pygments_lexer": "ipython3",
   "version": "3.11.7"
  }
 },
 "nbformat": 4,
 "nbformat_minor": 5
}
