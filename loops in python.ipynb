{
 "cells": [
  {
   "cell_type": "code",
   "execution_count": 2,
   "id": "261170fa-a40c-43a3-b6ef-1b52ce56f611",
   "metadata": {},
   "outputs": [
    {
     "name": "stdout",
     "output_type": "stream",
     "text": [
      "5\n",
      "6\n",
      "7\n",
      "8\n",
      "9\n"
     ]
    }
   ],
   "source": [
    "seq = [5,6,7,8,9]\n",
    "for i in seq:\n",
    "    print(i)"
   ]
  },
  {
   "cell_type": "code",
   "execution_count": 4,
   "id": "357228ee-7576-4a8f-87b8-4cd998db3fcf",
   "metadata": {},
   "outputs": [
    {
     "name": "stdout",
     "output_type": "stream",
     "text": [
      "5\n",
      "6\n",
      "7\n",
      "8\n",
      "9\n"
     ]
    }
   ],
   "source": [
    "seq = [5,6,7,8,9]\n",
    "for item in seq:\n",
    "    print(item)"
   ]
  },
  {
   "cell_type": "raw",
   "id": "58c9e678-91d0-425a-9f3b-bc6163fa6582",
   "metadata": {},
   "source": []
  },
  {
   "cell_type": "code",
   "execution_count": 5,
   "id": "f9981ed2-1c67-4118-be48-c2b93c3a897f",
   "metadata": {},
   "outputs": [
    {
     "name": "stdout",
     "output_type": "stream",
     "text": [
      "jasmine\n",
      "lilly\n",
      "rose\n"
     ]
    }
   ],
   "source": [
    "flowers = [\"jasmine\",\"lilly\",\"rose\"]\n",
    "for x in flowers:\n",
    "    print(x)"
   ]
  },
  {
   "cell_type": "code",
   "execution_count": 7,
   "id": "71f9a197-be37-489c-a8f7-e31a02fb6622",
   "metadata": {},
   "outputs": [
    {
     "name": "stdout",
     "output_type": "stream",
     "text": [
      "78923"
     ]
    }
   ],
   "source": [
    "list = [7,8,9,2,3]\n",
    "for xy in list:\n",
    "    print(xy,end='')"
   ]
  },
  {
   "cell_type": "code",
   "execution_count": 14,
   "id": "fc6df34f-ddc1-4678-b75e-ed90261c275a",
   "metadata": {},
   "outputs": [
    {
     "name": "stdout",
     "output_type": "stream",
     "text": [
      "5 6 7 "
     ]
    }
   ],
   "source": [
    "a = \"567\"\n",
    "for char in a:\n",
    "    print(char,end = ' ')"
   ]
  },
  {
   "cell_type": "raw",
   "id": "aafd1a87-5a1a-4112-aa3b-215da99f83e4",
   "metadata": {},
   "source": []
  },
  {
   "cell_type": "code",
   "execution_count": 11,
   "id": "58744345-5577-4f77-b193-9afc6a7864f9",
   "metadata": {},
   "outputs": [
    {
     "name": "stdout",
     "output_type": "stream",
     "text": [
      "0 hello\n",
      "1 hello\n",
      "2 hello\n",
      "3 hello\n",
      "4 hello\n",
      "5 hello\n",
      "6 hello\n",
      "7 hello\n",
      "8 hello\n",
      "9 hello\n"
     ]
    }
   ],
   "source": [
    "for x in range(10):\n",
    "    print(x,\"hello\")"
   ]
  },
  {
   "cell_type": "code",
   "execution_count": 13,
   "id": "288d0df1-b363-4694-ac0c-fd632c7142e4",
   "metadata": {},
   "outputs": [
    {
     "name": "stdout",
     "output_type": "stream",
     "text": [
      "1 2 3 4 5 6 7 8 9 10 "
     ]
    }
   ],
   "source": [
    "for i in range(1,11):\n",
    "    print(i,end=' ')"
   ]
  },
  {
   "cell_type": "code",
   "execution_count": 15,
   "id": "07442792-773f-4fca-b76a-729597ccd8a3",
   "metadata": {},
   "outputs": [
    {
     "name": "stdout",
     "output_type": "stream",
     "text": [
      "11\n",
      "12\n",
      "13\n",
      "14\n",
      "15\n",
      "16\n",
      "17\n",
      "18\n",
      "19\n",
      "20\n"
     ]
    }
   ],
   "source": [
    "for i in range(11,21):\n",
    "    print(i)"
   ]
  },
  {
   "cell_type": "code",
   "execution_count": 16,
   "id": "aee0b0fd-f3d4-4ffd-95bc-263c8f0b5a60",
   "metadata": {},
   "outputs": [
    {
     "name": "stdout",
     "output_type": "stream",
     "text": [
      "100 98 96 94 92 90 88 86 84 82 80 78 76 74 72 70 68 66 64 62 60 58 56 54 52 50 48 46 44 42 40 38 36 34 32 30 28 26 24 22 20 18 16 14 12 10 8 6 4 2 "
     ]
    }
   ],
   "source": [
    "for i in range(100,1,-2):\n",
    "    print(i,end = ' ')"
   ]
  },
  {
   "cell_type": "code",
   "execution_count": 18,
   "id": "af7bafbe-dab5-49fb-b392-78663864b5bb",
   "metadata": {},
   "outputs": [
    {
     "name": "stdout",
     "output_type": "stream",
     "text": [
      "10\n",
      "12\n",
      "14\n",
      "16\n",
      "18\n",
      "20\n",
      "22\n",
      "24\n",
      "26\n",
      "28\n",
      "30\n",
      "32\n",
      "34\n",
      "36\n",
      "38\n"
     ]
    }
   ],
   "source": [
    "for i in range(10,39,2):\n",
    "    print(i)"
   ]
  },
  {
   "cell_type": "code",
   "execution_count": 19,
   "id": "b48da447-828b-45dc-8333-08765a52188b",
   "metadata": {},
   "outputs": [
    {
     "name": "stdout",
     "output_type": "stream",
     "text": [
      "item at index 0 is: i1\n",
      "item at index 1 is: i2\n",
      "item at index 2 is: i3\n",
      "item at index 3 is: i4\n"
     ]
    }
   ],
   "source": [
    "items = ['i1','i2','i3','i4']\n",
    "for i in range(len(items)):\n",
    "    print(\"item at index\",i,\"is:\",items[i])"
   ]
  },
  {
   "cell_type": "code",
   "execution_count": 21,
   "id": "e6ecd6e1-bbe4-4ab3-848d-1818ec4a6223",
   "metadata": {},
   "outputs": [
    {
     "name": "stdout",
     "output_type": "stream",
     "text": [
      "sum1 14\n"
     ]
    }
   ],
   "source": [
    "b = [2,3,4,5]\n",
    "sum1 = 0\n",
    "for i in b:\n",
    "    sum1 = sum1 + i\n",
    "\n",
    "print(\"sum1\",sum1)"
   ]
  },
  {
   "cell_type": "code",
   "execution_count": 22,
   "id": "4969d557-c90a-4614-ac8f-8a49b0d10129",
   "metadata": {},
   "outputs": [
    {
     "name": "stdout",
     "output_type": "stream",
     "text": [
      "after 2 iteration the sum: 2\n",
      "after 3 iteration the sum: 5\n",
      "after 4 iteration the sum: 9\n",
      "after 5 iteration the sum: 14\n"
     ]
    }
   ],
   "source": [
    "b = [2,3,4,5]\n",
    "sum1 = 0\n",
    "for i in b :\n",
    "    sum1 = sum1+i\n",
    "    print(\"after\",i,\"iteration the sum:\",sum1)"
   ]
  },
  {
   "cell_type": "code",
   "execution_count": 23,
   "id": "a4691327-c40f-4034-b55e-085f1ad0ec01",
   "metadata": {},
   "outputs": [
    {
     "name": "stdout",
     "output_type": "stream",
     "text": [
      "I like  mango\n"
     ]
    }
   ],
   "source": [
    "fruits = [\"mango\",\"apple\",\"dragon fruit\"]\n",
    "for i in range(1):\n",
    "    print(\"I like \",fruits[i])"
   ]
  },
  {
   "cell_type": "code",
   "execution_count": 28,
   "id": "d4ab2a0e-a18f-45a9-8a9f-fc8f42169695",
   "metadata": {},
   "outputs": [
    {
     "name": "stdin",
     "output_type": "stream",
     "text": [
      "enter lower bound values: 10\n",
      "enter upper bound values: 20\n"
     ]
    },
    {
     "name": "stdout",
     "output_type": "stream",
     "text": [
      "10,12,14,16,18,20,"
     ]
    }
   ],
   "source": [
    "lb = int((input('enter lower bound values:')))\n",
    "ub = int((input('enter upper bound values:')))\n",
    "for i in range(lb,ub+1):\n",
    "    if i%2 == 0:\n",
    "        print(i,end = ',')"
   ]
  },
  {
   "cell_type": "code",
   "execution_count": 31,
   "id": "1c92c06b-1e6e-4316-b6f2-d434ea202cda",
   "metadata": {},
   "outputs": [
    {
     "name": "stdin",
     "output_type": "stream",
     "text": [
      "enter the number: 5\n"
     ]
    },
    {
     "name": "stdout",
     "output_type": "stream",
     "text": [
      "* * * * * "
     ]
    }
   ],
   "source": [
    "n = int(input(\"enter the number:\"))\n",
    "for i in range(n):\n",
    "    print(\"*\",end = ' ')"
   ]
  },
  {
   "cell_type": "code",
   "execution_count": 32,
   "id": "b2b3c842-0cbd-4a9a-bd8f-a6805faacba2",
   "metadata": {},
   "outputs": [
    {
     "name": "stdout",
     "output_type": "stream",
     "text": [
      "5\n",
      "10\n",
      "15\n",
      "20\n",
      "25\n",
      "30\n",
      "40\n",
      "45\n",
      "50\n",
      "55\n",
      "60\n",
      "65\n",
      "75\n",
      "80\n",
      "85\n",
      "90\n",
      "95\n",
      "100\n"
     ]
    }
   ],
   "source": [
    "for num in range(1,101):\n",
    "    if num%5 == 0 and num%7 != 0:\n",
    "        print(num)"
   ]
  },
  {
   "cell_type": "code",
   "execution_count": 35,
   "id": "12178e86-cfc8-49a1-a87c-60ad3a229a4b",
   "metadata": {},
   "outputs": [
    {
     "name": "stdin",
     "output_type": "stream",
     "text": [
      "enter table 8\n"
     ]
    },
    {
     "name": "stdout",
     "output_type": "stream",
     "text": [
      "8 * 1 = 8\n",
      "8 * 2 = 16\n",
      "8 * 3 = 24\n",
      "8 * 4 = 32\n",
      "8 * 5 = 40\n",
      "8 * 6 = 48\n",
      "8 * 7 = 56\n",
      "8 * 8 = 64\n",
      "8 * 9 = 72\n",
      "8 * 10 = 80\n",
      "8 * 11 = 88\n",
      "8 * 12 = 96\n",
      "8 * 13 = 104\n",
      "8 * 14 = 112\n",
      "8 * 15 = 120\n",
      "8 * 16 = 128\n",
      "8 * 17 = 136\n",
      "8 * 18 = 144\n",
      "8 * 19 = 152\n",
      "8 * 20 = 160\n"
     ]
    }
   ],
   "source": [
    "a = int(input(\"enter table\"))\n",
    "for i in range(1,21):\n",
    "    print(a,'*',i,'=',a*i)"
   ]
  },
  {
   "cell_type": "code",
   "execution_count": 36,
   "id": "c06c7c2a-4d29-42df-a1d1-c41a2f7739e1",
   "metadata": {},
   "outputs": [
    {
     "name": "stdout",
     "output_type": "stream",
     "text": [
      "[0, 1, 4, 9, 16, 25, 36, 49, 64, 81]\n"
     ]
    }
   ],
   "source": [
    "squares = []\n",
    "for i in range(10):\n",
    "    squares.append(i**2)\n",
    "\n",
    "print(squares)"
   ]
  },
  {
   "cell_type": "code",
   "execution_count": 37,
   "id": "051bf7f5-be08-4758-be3c-058ba324b7d0",
   "metadata": {},
   "outputs": [
    {
     "name": "stdout",
     "output_type": "stream",
     "text": [
      "[0, 1, 4, 9, 16, 25, 36, 49, 64, 81]\n"
     ]
    }
   ],
   "source": [
    "squares = [i**2 for i in range(10)]\n",
    "print(squares)"
   ]
  },
  {
   "cell_type": "code",
   "execution_count": 39,
   "id": "41fedcae-5c66-49a6-bb6f-9ddfd475bc75",
   "metadata": {},
   "outputs": [
    {
     "data": {
      "text/plain": [
       "{2, 3, 5}"
      ]
     },
     "execution_count": 39,
     "metadata": {},
     "output_type": "execute_result"
    }
   ],
   "source": [
    "movies=[\"dd\",\"eed\",\"ffggh\"]\n",
    "{len(i) for i in movies}"
   ]
  },
  {
   "cell_type": "code",
   "execution_count": 48,
   "id": "227d8cfa-2522-4127-9c60-47702c404c65",
   "metadata": {},
   "outputs": [
    {
     "name": "stdout",
     "output_type": "stream",
     "text": [
      "1\n",
      "3\n"
     ]
    }
   ],
   "source": [
    "numbers = [1, 2, 3, 4]\n",
    "for num in numbers:\n",
    "    if num%2 == 0:\n",
    "        continue\n",
    "    print(num)"
   ]
  },
  {
   "cell_type": "code",
   "execution_count": 50,
   "id": "56f34239-f12a-4656-a353-6a57ec4025f0",
   "metadata": {},
   "outputs": [
    {
     "name": "stdout",
     "output_type": "stream",
     "text": [
      "1\n",
      "2\n",
      "3\n",
      "4\n",
      "no item left in list:\n"
     ]
    }
   ],
   "source": [
    "n = [1,2,3,4]\n",
    "for item in n:\n",
    "    print(item)\n",
    "\n",
    "else:\n",
    "    print(\"no item left in list:\")"
   ]
  },
  {
   "cell_type": "code",
   "execution_count": 51,
   "id": "d4140649-50c8-4d5f-bef5-142676813dbc",
   "metadata": {},
   "outputs": [
    {
     "name": "stdout",
     "output_type": "stream",
     "text": [
      "1\n",
      "2\n",
      "3\n",
      "4\n",
      "5\n",
      "6\n"
     ]
    }
   ],
   "source": [
    "x = 0\n",
    "while x<6:\n",
    "    x = x+1\n",
    "    print(x)"
   ]
  },
  {
   "cell_type": "code",
   "execution_count": 52,
   "id": "cfad6386-f3c9-4064-bf48-bff8d01fbae2",
   "metadata": {},
   "outputs": [
    {
     "name": "stdout",
     "output_type": "stream",
     "text": [
      "6\n"
     ]
    }
   ],
   "source": [
    "i = 0\n",
    "s = 0\n",
    "while (i<=5):\n",
    "    s = s+i\n",
    "    i+=2\n",
    "\n",
    "print(s)"
   ]
  },
  {
   "cell_type": "code",
   "execution_count": 57,
   "id": "acf07340-d91b-42e1-9417-2192ba865f8a",
   "metadata": {},
   "outputs": [
    {
     "name": "stdout",
     "output_type": "stream",
     "text": [
      "0 1 2 3 4 5 6 7 8 9 10 "
     ]
    }
   ],
   "source": [
    "i = 0\n",
    "while(i<=10):\n",
    "    print(i,end = ' ')\n",
    "    i = i +1\n",
    "\n"
   ]
  },
  {
   "cell_type": "code",
   "execution_count": 58,
   "id": "2c4a498a-dbd5-4fd2-99df-f249a56e6610",
   "metadata": {},
   "outputs": [
    {
     "name": "stdout",
     "output_type": "stream",
     "text": [
      "product is: 15\n"
     ]
    }
   ],
   "source": [
    "list = [1,2,3,4,5]\n",
    "product = 1\n",
    "index = 0\n",
    "while index < len(list):\n",
    "    product *= list[index]\n",
    "    index += 2\n",
    "\n",
    "print(\"product is: {}\".format(product))"
   ]
  },
  {
   "cell_type": "code",
   "execution_count": 59,
   "id": "5dfa9837-e9fd-44df-af8d-b3c29478e66b",
   "metadata": {},
   "outputs": [
    {
     "name": "stdout",
     "output_type": "stream",
     "text": [
      "x is 8\n",
      "x is 7\n",
      "x is 6\n",
      "x is 5\n",
      "x is 4\n",
      "x is 3\n",
      "x is 2\n",
      "x is no longer greater than 1\n"
     ]
    }
   ],
   "source": [
    "x = 8\n",
    "while x>1:\n",
    "    print(\"x is {}\".format(x))\n",
    "    x -= 1\n",
    "    if x == 9:\n",
    "        break\n",
    "\n",
    "else:\n",
    "    print(\"x is no longer greater than 1\")"
   ]
  },
  {
   "cell_type": "code",
   "execution_count": 60,
   "id": "ccd7cc0e-b14e-4bf0-9fa2-6a82271bbf76",
   "metadata": {},
   "outputs": [
    {
     "name": "stdin",
     "output_type": "stream",
     "text": [
      " 5\n"
     ]
    },
    {
     "name": "stdout",
     "output_type": "stream",
     "text": [
      "120\n"
     ]
    }
   ],
   "source": [
    "a = int(input())\n",
    "fact = 1\n",
    "for i in range(a,0,-1):\n",
    "    fact = fact*i\n",
    "\n",
    "print(fact)"
   ]
  },
  {
   "cell_type": "code",
   "execution_count": 62,
   "id": "b8db0771-ec2b-4db5-8c83-eb55d73e51f5",
   "metadata": {},
   "outputs": [
    {
     "name": "stdin",
     "output_type": "stream",
     "text": [
      " 10\n"
     ]
    },
    {
     "name": "stdout",
     "output_type": "stream",
     "text": [
      "after 1 iteration the factorial value is: 1\n",
      "after 2 iteration the factorial value is: 2\n",
      "after 3 iteration the factorial value is: 6\n",
      "after 4 iteration the factorial value is: 24\n",
      "after 5 iteration the factorial value is: 120\n",
      "after 6 iteration the factorial value is: 720\n",
      "after 7 iteration the factorial value is: 5040\n",
      "after 8 iteration the factorial value is: 40320\n",
      "after 9 iteration the factorial value is: 362880\n",
      "after 10 iteration the factorial value is: 3628800\n"
     ]
    }
   ],
   "source": [
    "b = int(input())\n",
    "fact = 1\n",
    "for i in range(1,b+1):\n",
    "    fact = fact*i\n",
    "    print(\"after\",i,\"iteration the factorial value is:\",fact)"
   ]
  },
  {
   "cell_type": "code",
   "execution_count": null,
   "id": "0bf2e2a3-027c-4d72-bdcc-44374bedbe61",
   "metadata": {},
   "outputs": [],
   "source": []
  }
 ],
 "metadata": {
  "kernelspec": {
   "display_name": "Python 3 (ipykernel)",
   "language": "python",
   "name": "python3"
  },
  "language_info": {
   "codemirror_mode": {
    "name": "ipython",
    "version": 3
   },
   "file_extension": ".py",
   "mimetype": "text/x-python",
   "name": "python",
   "nbconvert_exporter": "python",
   "pygments_lexer": "ipython3",
   "version": "3.11.7"
  }
 },
 "nbformat": 4,
 "nbformat_minor": 5
}
