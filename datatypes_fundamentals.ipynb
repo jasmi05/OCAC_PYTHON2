{
 "cells": [
  {
   "cell_type": "code",
   "execution_count": 1,
   "id": "f7081d76-7f21-407d-8f6c-3877940f5331",
   "metadata": {},
   "outputs": [
    {
     "name": "stdout",
     "output_type": "stream",
     "text": [
      "<class 'int'>\n",
      "<class 'float'>\n"
     ]
    }
   ],
   "source": [
    "a = 3\n",
    "print(type(a))\n",
    "b = 3.0\n",
    "print(type(b))"
   ]
  },
  {
   "cell_type": "code",
   "execution_count": 2,
   "id": "e717d36d-3a26-42b0-bc1d-ac00eb0f7d90",
   "metadata": {},
   "outputs": [
    {
     "data": {
      "text/plain": [
       "8.0"
      ]
     },
     "execution_count": 2,
     "metadata": {},
     "output_type": "execute_result"
    }
   ],
   "source": [
    "a = 3\n",
    "b = 5.0\n",
    "a+b"
   ]
  },
  {
   "cell_type": "code",
   "execution_count": 3,
   "id": "72cce724-13d8-413c-a72e-680b693fc7fe",
   "metadata": {},
   "outputs": [
    {
     "data": {
      "text/plain": [
       "9"
      ]
     },
     "execution_count": 3,
     "metadata": {},
     "output_type": "execute_result"
    }
   ],
   "source": [
    "b = 9.9\n",
    "int(b)\n"
   ]
  },
  {
   "cell_type": "code",
   "execution_count": 4,
   "id": "7454573f-38c1-4c8d-aa81-d18aa811cae1",
   "metadata": {},
   "outputs": [
    {
     "data": {
      "text/plain": [
       "10.9"
      ]
     },
     "execution_count": 4,
     "metadata": {},
     "output_type": "execute_result"
    }
   ],
   "source": [
    "b = 9.9\n",
    "c = True\n",
    "b+c"
   ]
  },
  {
   "cell_type": "code",
   "execution_count": 5,
   "id": "d75934a7-bac9-4771-b832-394b9e0a16e9",
   "metadata": {},
   "outputs": [
    {
     "data": {
      "text/plain": [
       "complex"
      ]
     },
     "execution_count": 5,
     "metadata": {},
     "output_type": "execute_result"
    }
   ],
   "source": [
    "x = 10+20j\n",
    "type(x)"
   ]
  },
  {
   "cell_type": "code",
   "execution_count": 6,
   "id": "afb71e06-323a-47de-8a9a-0cbc754b0dca",
   "metadata": {},
   "outputs": [
    {
     "data": {
      "text/plain": [
       "10.0"
      ]
     },
     "execution_count": 6,
     "metadata": {},
     "output_type": "execute_result"
    }
   ],
   "source": [
    "x.real"
   ]
  },
  {
   "cell_type": "code",
   "execution_count": 7,
   "id": "e639410d-3d2c-443a-bd1e-25201db800ce",
   "metadata": {},
   "outputs": [
    {
     "data": {
      "text/plain": [
       "20.0"
      ]
     },
     "execution_count": 7,
     "metadata": {},
     "output_type": "execute_result"
    }
   ],
   "source": [
    "x.imag"
   ]
  },
  {
   "cell_type": "code",
   "execution_count": 8,
   "id": "70e4e691-742b-4067-ae62-5d09bacf9d8f",
   "metadata": {},
   "outputs": [
    {
     "data": {
      "text/plain": [
       "20"
      ]
     },
     "execution_count": 8,
     "metadata": {},
     "output_type": "execute_result"
    }
   ],
   "source": [
    "int(x.imag)"
   ]
  },
  {
   "cell_type": "code",
   "execution_count": 9,
   "id": "edc0c6b1-3fdd-4c3b-8db0-2631bf7665f1",
   "metadata": {},
   "outputs": [
    {
     "data": {
      "text/plain": [
       "str"
      ]
     },
     "execution_count": 9,
     "metadata": {},
     "output_type": "execute_result"
    }
   ],
   "source": [
    "var = \"123\"\n",
    "type(var)"
   ]
  },
  {
   "cell_type": "code",
   "execution_count": 10,
   "id": "49120017-fb54-4891-bdd1-9268abfaf432",
   "metadata": {},
   "outputs": [
    {
     "data": {
      "text/plain": [
       "123"
      ]
     },
     "execution_count": 10,
     "metadata": {},
     "output_type": "execute_result"
    }
   ],
   "source": [
    "int(var)"
   ]
  },
  {
   "cell_type": "code",
   "execution_count": 11,
   "id": "69390038-a11f-4c66-89f4-476f4efe60ea",
   "metadata": {},
   "outputs": [
    {
     "ename": "ValueError",
     "evalue": "invalid literal for int() with base 10: '123@gh'",
     "output_type": "error",
     "traceback": [
      "\u001b[1;31m---------------------------------------------------------------------------\u001b[0m",
      "\u001b[1;31mValueError\u001b[0m                                Traceback (most recent call last)",
      "Cell \u001b[1;32mIn[11], line 2\u001b[0m\n\u001b[0;32m      1\u001b[0m var \u001b[38;5;241m=\u001b[39m \u001b[38;5;124m\"\u001b[39m\u001b[38;5;124m123@gh\u001b[39m\u001b[38;5;124m\"\u001b[39m\n\u001b[1;32m----> 2\u001b[0m \u001b[38;5;28mint\u001b[39m(var)\n",
      "\u001b[1;31mValueError\u001b[0m: invalid literal for int() with base 10: '123@gh'"
     ]
    }
   ],
   "source": [
    "var = \"123@gh\"\n",
    "int(var)"
   ]
  },
  {
   "cell_type": "code",
   "execution_count": null,
   "id": "5bf6bb2e-57b2-4459-a4bc-c17577c21e9d",
   "metadata": {},
   "outputs": [],
   "source": [
    "print('navin \"laptop\"')"
   ]
  },
  {
   "cell_type": "code",
   "execution_count": null,
   "id": "b23d5e28-33a8-4c5d-8d66-2d315542b031",
   "metadata": {},
   "outputs": [],
   "source": [
    "print('navin\\'s \"laptop\"')"
   ]
  },
  {
   "cell_type": "code",
   "execution_count": null,
   "id": "a0063683-4355-4907-900c-80cc11be4174",
   "metadata": {},
   "outputs": [],
   "source": [
    "d = \"3\"\n",
    "e = 4\n",
    "print(d+e)"
   ]
  },
  {
   "cell_type": "code",
   "execution_count": null,
   "id": "76598710-ec44-4ff4-a4ee-731740124c3f",
   "metadata": {},
   "outputs": [],
   "source": [
    "\n",
    "int(d+e)"
   ]
  },
  {
   "cell_type": "code",
   "execution_count": null,
   "id": "ff57f86e-e079-4ff1-b70a-c4d9663bd868",
   "metadata": {},
   "outputs": [],
   "source": [
    "int(d)+e"
   ]
  },
  {
   "cell_type": "code",
   "execution_count": null,
   "id": "028cccfb-23f7-41eb-9a5b-003b044daf7f",
   "metadata": {},
   "outputs": [],
   "source": [
    "int(d+str(e))"
   ]
  },
  {
   "cell_type": "code",
   "execution_count": null,
   "id": "6b2ae5a1-b433-4ad9-89e9-a5c6b5d78c53",
   "metadata": {},
   "outputs": [],
   "source": [
    "\"jasmine\"*5"
   ]
  },
  {
   "cell_type": "code",
   "execution_count": null,
   "id": "1f014849-7787-472b-b156-bdbff7c6cf02",
   "metadata": {},
   "outputs": [],
   "source": [
    "a = \"jas\"\n",
    "a[1]=\"g\""
   ]
  },
  {
   "cell_type": "code",
   "execution_count": null,
   "id": "c1d7b8e0-2626-42ff-8e1c-d16d418c567d",
   "metadata": {},
   "outputs": [],
   "source": [
    "\"good\".capitalize()"
   ]
  },
  {
   "cell_type": "code",
   "execution_count": null,
   "id": "c3691200-ec46-481f-8fc2-95d59f1f81af",
   "metadata": {},
   "outputs": [],
   "source": [
    "\"good\".title()"
   ]
  },
  {
   "cell_type": "code",
   "execution_count": 12,
   "id": "19bc5655-c152-41b4-bebd-365fa7765ace",
   "metadata": {},
   "outputs": [
    {
     "data": {
      "text/plain": [
       "'GOOD'"
      ]
     },
     "execution_count": 12,
     "metadata": {},
     "output_type": "execute_result"
    }
   ],
   "source": [
    "\"good\".upper()"
   ]
  },
  {
   "cell_type": "code",
   "execution_count": 13,
   "id": "71e3a662-2ced-409b-8d1b-f3cfc5f1f3c4",
   "metadata": {},
   "outputs": [
    {
     "data": {
      "text/plain": [
       "['this', 'is', 'a', 'laptop']"
      ]
     },
     "execution_count": 13,
     "metadata": {},
     "output_type": "execute_result"
    }
   ],
   "source": [
    "\"this is a laptop\".split()"
   ]
  },
  {
   "cell_type": "code",
   "execution_count": 14,
   "id": "4f0c519b-9952-440e-8427-686e428d66bf",
   "metadata": {},
   "outputs": [
    {
     "data": {
      "text/plain": [
       "'this is a laptop'"
      ]
     },
     "execution_count": 14,
     "metadata": {},
     "output_type": "execute_result"
    }
   ],
   "source": [
    "\" \".join(['this','is','a','laptop'])"
   ]
  },
  {
   "cell_type": "code",
   "execution_count": 15,
   "id": "512b8105-2594-4b81-9322-2203bc98f454",
   "metadata": {},
   "outputs": [
    {
     "data": {
      "text/plain": [
       "5"
      ]
     },
     "execution_count": 15,
     "metadata": {},
     "output_type": "execute_result"
    }
   ],
   "source": [
    "\"good morning\".find(\"m\")"
   ]
  },
  {
   "cell_type": "code",
   "execution_count": 16,
   "id": "0b3b0664-83d9-4dec-af3d-b05c93519d93",
   "metadata": {},
   "outputs": [
    {
     "data": {
      "text/plain": [
       "'good person'"
      ]
     },
     "execution_count": 16,
     "metadata": {},
     "output_type": "execute_result"
    }
   ],
   "source": [
    "s = \"bad person\"\n",
    "s.replace(\"bad\",\"good\")"
   ]
  },
  {
   "cell_type": "code",
   "execution_count": 17,
   "id": "e5070c36-14d5-4389-8925-4f51929c0721",
   "metadata": {},
   "outputs": [
    {
     "name": "stdin",
     "output_type": "stream",
     "text": [
      "Enter gmails: jasminenayak266@gmail.com\n",
      "enter 2nd gmail: sas@gmail.com\n",
      "enter 3rd gmail: ghncjns@gmail.com\n"
     ]
    },
    {
     "name": "stdout",
     "output_type": "stream",
     "text": [
      "the user id and domains are respectively: ['jasminenayak266', 'gmail.com'] ['sas', 'gmail.com'] ['ghncjns', 'gmail.com']\n"
     ]
    }
   ],
   "source": [
    "gmail = input(\"Enter gmails:\")\n",
    "gmail2 = input(\"enter 2nd gmail:\")\n",
    "gmail3 = input(\"enter 3rd gmail:\")\n",
    "print(\"the user id and domains are respectively:\", gmail.split(\"@\"),gmail2.split(\"@\"),gmail3.split(\"@\"))\n"
   ]
  },
  {
   "cell_type": "code",
   "execution_count": 18,
   "id": "c41096c4-a558-46e2-be87-14ab2cbccfca",
   "metadata": {},
   "outputs": [
    {
     "name": "stdin",
     "output_type": "stream",
     "text": [
      "Enter gmails: jasminenayak266@gmail.com\n"
     ]
    },
    {
     "name": "stdout",
     "output_type": "stream",
     "text": [
      "['jasminenayak266', 'gmail.com']\n"
     ]
    }
   ],
   "source": [
    "gmail = input(\"Enter gmails:\").split(\"@\")\n",
    "print(gmail)"
   ]
  },
  {
   "cell_type": "code",
   "execution_count": null,
   "id": "3cd85062-28cb-43c4-ac58-5d7dc2881301",
   "metadata": {},
   "outputs": [],
   "source": []
  }
 ],
 "metadata": {
  "kernelspec": {
   "display_name": "Python 3 (ipykernel)",
   "language": "python",
   "name": "python3"
  },
  "language_info": {
   "codemirror_mode": {
    "name": "ipython",
    "version": 3
   },
   "file_extension": ".py",
   "mimetype": "text/x-python",
   "name": "python",
   "nbconvert_exporter": "python",
   "pygments_lexer": "ipython3",
   "version": "3.11.7"
  }
 },
 "nbformat": 4,
 "nbformat_minor": 5
}
