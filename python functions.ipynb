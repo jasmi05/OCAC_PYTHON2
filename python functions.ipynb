{
 "cells": [
  {
   "cell_type": "code",
   "execution_count": 1,
   "id": "15ba7d24-66a7-486a-8129-77800291d385",
   "metadata": {},
   "outputs": [
    {
     "data": {
      "text/plain": [
       "100"
      ]
     },
     "execution_count": 1,
     "metadata": {},
     "output_type": "execute_result"
    }
   ],
   "source": [
    "num = -100\n",
    "abs(num)"
   ]
  },
  {
   "cell_type": "code",
   "execution_count": 3,
   "id": "32635ae3-ded4-4743-9771-43e05ef41dc4",
   "metadata": {},
   "outputs": [
    {
     "data": {
      "text/plain": [
       "(2, 0)"
      ]
     },
     "execution_count": 3,
     "metadata": {},
     "output_type": "execute_result"
    }
   ],
   "source": [
    "divmod(8,4)"
   ]
  },
  {
   "cell_type": "code",
   "execution_count": 8,
   "id": "cb7b7cfa-9cfb-4bfc-adc9-3c2655bd3668",
   "metadata": {},
   "outputs": [],
   "source": [
    "def double(num):\n",
    "    return 2*int(num)"
   ]
  },
  {
   "cell_type": "code",
   "execution_count": 9,
   "id": "ba2cb16c-0cfe-417c-9f77-bec67ad58ed1",
   "metadata": {},
   "outputs": [
    {
     "data": {
      "text/plain": [
       "20"
      ]
     },
     "execution_count": 9,
     "metadata": {},
     "output_type": "execute_result"
    }
   ],
   "source": [
    "double(10)"
   ]
  },
  {
   "cell_type": "code",
   "execution_count": 10,
   "id": "05111db7-e5e2-4bd0-b768-7ac444801d18",
   "metadata": {},
   "outputs": [
    {
     "data": {
      "text/plain": [
       "20"
      ]
     },
     "execution_count": 10,
     "metadata": {},
     "output_type": "execute_result"
    }
   ],
   "source": [
    "double(10.7)"
   ]
  },
  {
   "cell_type": "code",
   "execution_count": 12,
   "id": "d9e17866-64f9-4826-ad10-1a370c25316d",
   "metadata": {},
   "outputs": [
    {
     "data": {
      "text/plain": [
       "30"
      ]
     },
     "execution_count": 12,
     "metadata": {},
     "output_type": "execute_result"
    }
   ],
   "source": [
    "def mul(num1,num2):\n",
    "    return num1*num2\n",
    "\n",
    "mul(5,6)"
   ]
  },
  {
   "cell_type": "code",
   "execution_count": 13,
   "id": "b6467bcc-856a-4cd8-9ab2-3547334b0a14",
   "metadata": {},
   "outputs": [
    {
     "name": "stdout",
     "output_type": "stream",
     "text": [
      "hello 164\n"
     ]
    }
   ],
   "source": [
    "def print_name(x):\n",
    "    print(\"hello\",x)\n",
    "\n",
    "print_name(164)"
   ]
  },
  {
   "cell_type": "code",
   "execution_count": 15,
   "id": "b6b34c9c-62d4-496f-b54d-67cb2e8bf46e",
   "metadata": {},
   "outputs": [
    {
     "name": "stdout",
     "output_type": "stream",
     "text": [
      "5\n",
      "10\n",
      "15\n",
      "20\n",
      "25\n",
      "30\n",
      "40\n",
      "45\n"
     ]
    }
   ],
   "source": [
    "def num_5_7(i):\n",
    "    for num in range(1,i):\n",
    "        if num%5 == 0 and num%7!=0:\n",
    "            print(num)\n",
    "\n",
    "num_5_7(50)"
   ]
  },
  {
   "cell_type": "code",
   "execution_count": 18,
   "id": "87c74f39-b340-4a5f-b53f-8cf67eef0872",
   "metadata": {},
   "outputs": [
    {
     "name": "stdout",
     "output_type": "stream",
     "text": [
      "6 9\n"
     ]
    }
   ],
   "source": [
    "list = [1,2,3,4,5]\n",
    "even_sum = 0\n",
    "odd_sum = 0\n",
    "for i in list:\n",
    "    if i%2 == 0:\n",
    "        even_sum=even_sum+i\n",
    "    else:\n",
    "        odd_sum = odd_sum+i\n",
    "\n",
    "print(even_sum,odd_sum)\n"
   ]
  },
  {
   "cell_type": "code",
   "execution_count": 22,
   "id": "5a03adfa-0613-4ef8-a58f-7f564df5e6ab",
   "metadata": {},
   "outputs": [
    {
     "name": "stdout",
     "output_type": "stream",
     "text": [
      "6 9\n"
     ]
    }
   ],
   "source": [
    "def f_n(l):\n",
    "    even_sum = 0\n",
    "    odd_sum = 0\n",
    "    for i in l:\n",
    "        if i%2==0:\n",
    "            even_sum=even_sum+i\n",
    "        else:\n",
    "            odd_sum=odd_sum+i\n",
    "\n",
    "print(even_sum,odd_sum)\n",
    "f_n([1,2,3,4,5])"
   ]
  },
  {
   "cell_type": "code",
   "execution_count": 23,
   "id": "c9de70e6-dd05-4cc6-839a-8a71fb034060",
   "metadata": {},
   "outputs": [
    {
     "name": "stdout",
     "output_type": "stream",
     "text": [
      "hello jasmine,Good Morning\n"
     ]
    }
   ],
   "source": [
    "def greet(name,msg):\n",
    "    print(\"hello {},{}\".format(name,msg))\n",
    "\n",
    "greet(\"jasmine\",\"Good Morning\")"
   ]
  },
  {
   "cell_type": "code",
   "execution_count": 24,
   "id": "4be5183b-6357-4c38-8f05-6b3b764c8ac8",
   "metadata": {},
   "outputs": [
    {
     "ename": "TypeError",
     "evalue": "greet() missing 1 required positional argument: 'msg'",
     "output_type": "error",
     "traceback": [
      "\u001b[1;31m---------------------------------------------------------------------------\u001b[0m",
      "\u001b[1;31mTypeError\u001b[0m                                 Traceback (most recent call last)",
      "Cell \u001b[1;32mIn[24], line 1\u001b[0m\n\u001b[1;32m----> 1\u001b[0m greet(\u001b[38;5;124m\"\u001b[39m\u001b[38;5;124mjasmine\u001b[39m\u001b[38;5;124m\"\u001b[39m)\n",
      "\u001b[1;31mTypeError\u001b[0m: greet() missing 1 required positional argument: 'msg'"
     ]
    }
   ],
   "source": [
    "greet(\"jasmine\")"
   ]
  },
  {
   "cell_type": "code",
   "execution_count": 26,
   "id": "4827d0c2-d82e-4da2-995f-be692f6770b5",
   "metadata": {},
   "outputs": [
    {
     "name": "stdin",
     "output_type": "stream",
     "text": [
      "enter lower bound values: 10\n",
      "enter upper bound values: 50\n"
     ]
    },
    {
     "name": "stdout",
     "output_type": "stream",
     "text": [
      "10\n",
      "12\n",
      "14\n",
      "16\n",
      "18\n",
      "20\n",
      "22\n",
      "24\n",
      "26\n",
      "28\n",
      "30\n",
      "32\n",
      "34\n",
      "36\n",
      "38\n",
      "40\n",
      "42\n",
      "44\n",
      "46\n",
      "48\n",
      "50\n"
     ]
    }
   ],
   "source": [
    "def even_num():\n",
    "    lb = int(input('enter lower bound values:'))\n",
    "    ub = int(input('enter upper bound values:'))\n",
    "    for i in range(lb,ub+1):\n",
    "        if i%2==0:\n",
    "            print(i)\n",
    "\n",
    "even_num()"
   ]
  },
  {
   "cell_type": "code",
   "execution_count": 27,
   "id": "3a752998-5874-4850-b9bf-663304b70955",
   "metadata": {},
   "outputs": [
    {
     "name": "stdout",
     "output_type": "stream",
     "text": [
      "hello jasmine,good night\n"
     ]
    }
   ],
   "source": [
    "def greet(name,msg = 'good morning'):\n",
    "    print(\"hello {},{}\".format(name,msg))\n",
    "\n",
    "greet('jasmine','good night')"
   ]
  },
  {
   "cell_type": "code",
   "execution_count": 28,
   "id": "3f40d57d-4419-419a-a7b2-a6df62a43849",
   "metadata": {},
   "outputs": [
    {
     "name": "stdout",
     "output_type": "stream",
     "text": [
      "hello jasmine,good morning\n"
     ]
    }
   ],
   "source": [
    "greet(\"jasmine\")"
   ]
  },
  {
   "cell_type": "code",
   "execution_count": 29,
   "id": "f610af42-0eae-4d84-a930-e33c5b57f830",
   "metadata": {},
   "outputs": [
    {
     "name": "stdout",
     "output_type": "stream",
     "text": [
      "hello jasmine,good morning\n"
     ]
    }
   ],
   "source": [
    "def greet(**kwargs):\n",
    "    if kwargs:\n",
    "        print(\"hello {},{}\".format(kwargs['name'],kwargs['msg']))\n",
    "\n",
    "greet(name=\"jasmine\",msg=\"good morning\")"
   ]
  },
  {
   "cell_type": "code",
   "execution_count": 30,
   "id": "e8758e22-da88-4a02-9dc3-61d8f04b1cd7",
   "metadata": {},
   "outputs": [],
   "source": [
    "def factorial(num):\n",
    "    if num==0:\n",
    "        return 1\n",
    "    else:\n",
    "        return num*factorial(num-1)"
   ]
  },
  {
   "cell_type": "code",
   "execution_count": 31,
   "id": "1065abee-2d7b-4d47-bfee-4fca7feca2a1",
   "metadata": {},
   "outputs": [
    {
     "name": "stdout",
     "output_type": "stream",
     "text": [
      "factorial of 5 is120\n"
     ]
    }
   ],
   "source": [
    "num = 5\n",
    "print(\"factorial of {} is{}\".format(num,factorial(num)))"
   ]
  },
  {
   "cell_type": "code",
   "execution_count": 33,
   "id": "a1d3fb74-bbb1-49c8-bbfa-ec5391e5c8a0",
   "metadata": {},
   "outputs": [
    {
     "name": "stdout",
     "output_type": "stream",
     "text": [
      "select option\n",
      "1.Addition\n",
      "2.multiplication\n",
      "3.substraction\n",
      "4.division\n"
     ]
    },
    {
     "name": "stdin",
     "output_type": "stream",
     "text": [
      "enter choice 1/2/3/4: 3\n",
      "enter 1st number 30\n",
      "enter 2nd number 15\n"
     ]
    },
    {
     "name": "stdout",
     "output_type": "stream",
     "text": [
      "substraction of 30 and 15 is 15\n"
     ]
    }
   ],
   "source": [
    "def add(c,d):\n",
    "    return c+d\n",
    "\n",
    "def mul(c,d):\n",
    "    return c*d\n",
    "\n",
    "def sub(c,d):\n",
    "    return c-d\n",
    "\n",
    "def div(c,d):\n",
    "    return c/d\n",
    "\n",
    "print(\"select option\")\n",
    "print(\"1.Addition\")\n",
    "print(\"2.multiplication\")\n",
    "print(\"3.substraction\")\n",
    "print(\"4.division\")\n",
    "choice = int(input(\"enter choice 1/2/3/4:\"))\n",
    "\n",
    "num1 = int(input(\"enter 1st number\"))\n",
    "num2 = int(input(\"enter 2nd number\"))\n",
    "if choice == 1:\n",
    "    print(\"addition of {} and {} is {}\".format(num1,num2,add(num1,num2)))\n",
    "\n",
    "elif choice == 2:\n",
    "    print(\"multiplication of {} and {} is {}\".format(num1,num2,mul(num1,num2)))\n",
    "\n",
    "elif choice == 3:\n",
    "    print(\"substraction of {} and {} is {}\".format(num1,num2,sub(num1,num2)))\n",
    "\n",
    "elif choice == 4:\n",
    "    print(\"division of {} and {} is {}\".format(num1,num2,div(num1,num2)))\n",
    "\n",
    "else:\n",
    "    print(\"invalid choice\")\n"
   ]
  },
  {
   "cell_type": "code",
   "execution_count": null,
   "id": "ac5b2711-ed37-4437-9586-8c2c86d68066",
   "metadata": {},
   "outputs": [],
   "source": []
  }
 ],
 "metadata": {
  "kernelspec": {
   "display_name": "Python 3 (ipykernel)",
   "language": "python",
   "name": "python3"
  },
  "language_info": {
   "codemirror_mode": {
    "name": "ipython",
    "version": 3
   },
   "file_extension": ".py",
   "mimetype": "text/x-python",
   "name": "python",
   "nbconvert_exporter": "python",
   "pygments_lexer": "ipython3",
   "version": "3.11.7"
  }
 },
 "nbformat": 4,
 "nbformat_minor": 5
}
