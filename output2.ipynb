{
 "cells": [
  {
   "cell_type": "code",
   "execution_count": 1,
   "id": "3496f486-e4af-4915-80ef-abcb78fc82a7",
   "metadata": {},
   "outputs": [
    {
     "name": "stdin",
     "output_type": "stream",
     "text": [
      "Enter the value of c:  40\n",
      "Enter the value of d:  50\n"
     ]
    },
    {
     "name": "stdout",
     "output_type": "stream",
     "text": [
      "ADD: 90\n",
      "Sum: 90, Diff:-10, mult:2000, Div:0.8, Mod: 40\n"
     ]
    }
   ],
   "source": [
    "c = int(input(\"Enter the value of c: \"))\n",
    "d= int(input(\"Enter the value of d: \"))\n",
    "add=c+d\n",
    "sub=c-d\n",
    "mult=c*d\n",
    "div=c/d\n",
    "mod=c%d\n",
    "print(\"ADD:\",add)\n",
    "print(\"Sum: {0}, Diff:{1}, mult:{2}, Div:{3}, Mod: {4}\".format(add, sub, mult, div, mod))\n",
    "      "
   ]
  },
  {
   "cell_type": "code",
   "execution_count": 2,
   "id": "860803e6-46d9-4252-82ea-9fd0ee0c00cc",
   "metadata": {},
   "outputs": [
    {
     "name": "stdout",
     "output_type": "stream",
     "text": [
      "Sum: 90,Diff :-10,Mult:2000,Div:0.8,Mod:40\n"
     ]
    }
   ],
   "source": [
    "print(\"Sum: {},Diff :{},Mult:{},Div:{},Mod:{}\".format(add,sub,mult,div,mod))"
   ]
  },
  {
   "cell_type": "code",
   "execution_count": 3,
   "id": "87281c31-1795-4b94-8e1e-b3e4fbb844f3",
   "metadata": {},
   "outputs": [
    {
     "name": "stdout",
     "output_type": "stream",
     "text": [
      "Sum: 90,Diff:-10,Mult:2000,Div:       0.800000.Mod:40\n"
     ]
    }
   ],
   "source": [
    "print(\"Sum: %d,Diff:%d,Mult:%d,Div:%15.6f.Mod:%d\" %(add,sub,mult,div,mod))"
   ]
  },
  {
   "cell_type": "code",
   "execution_count": 4,
   "id": "039400bb-ad80-45fb-937f-17a1219b6320",
   "metadata": {},
   "outputs": [
    {
     "name": "stdout",
     "output_type": "stream",
     "text": [
      "welcome masterclass |\n"
     ]
    }
   ],
   "source": [
    "a = \"masterclass\"\n",
    "print(f\"welcome {a} |\")"
   ]
  },
  {
   "cell_type": "code",
   "execution_count": 5,
   "id": "3cc04289-65db-4f70-b0eb-75f533998089",
   "metadata": {},
   "outputs": [
    {
     "name": "stdin",
     "output_type": "stream",
     "text": [
      "enter a clgname: abit\n",
      "enter the number of students: 400\n"
     ]
    },
    {
     "name": "stdout",
     "output_type": "stream",
     "text": [
      "the name of clg sand the number of students: abit 400\n"
     ]
    }
   ],
   "source": [
    "d = input(\"enter a clgname:\")\n",
    "e = input(\"enter the number of students:\")\n",
    "print(\"the name of clg sand the number of students:\",d,e)"
   ]
  },
  {
   "cell_type": "code",
   "execution_count": 6,
   "id": "49a390c5-d1b0-4e7c-abc5-8b544a7ea2a7",
   "metadata": {},
   "outputs": [
    {
     "name": "stdout",
     "output_type": "stream",
     "text": [
      "the name of clg abit and num of students 400\n"
     ]
    }
   ],
   "source": [
    "print(\"the name of clg\",d,\"and num of students\",e)"
   ]
  },
  {
   "cell_type": "code",
   "execution_count": null,
   "id": "a661edeb-1b47-4a12-8213-094800d870d7",
   "metadata": {},
   "outputs": [],
   "source": []
  }
 ],
 "metadata": {
  "kernelspec": {
   "display_name": "Python 3 (ipykernel)",
   "language": "python",
   "name": "python3"
  },
  "language_info": {
   "codemirror_mode": {
    "name": "ipython",
    "version": 3
   },
   "file_extension": ".py",
   "mimetype": "text/x-python",
   "name": "python",
   "nbconvert_exporter": "python",
   "pygments_lexer": "ipython3",
   "version": "3.11.7"
  }
 },
 "nbformat": 4,
 "nbformat_minor": 5
}
