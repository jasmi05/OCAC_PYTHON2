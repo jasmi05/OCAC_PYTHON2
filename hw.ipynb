{
 "cells": [
  {
   "cell_type": "code",
   "execution_count": 2,
   "id": "ab621925-74a1-49be-981a-704d6acfe230",
   "metadata": {},
   "outputs": [
    {
     "name": "stdout",
     "output_type": "stream",
     "text": [
      "3\n"
     ]
    }
   ],
   "source": [
    "print(3)\n"
   ]
  },
  {
   "cell_type": "code",
   "execution_count": 3,
   "id": "bc16294f-3957-4047-82d3-562351f72456",
   "metadata": {},
   "outputs": [
    {
     "name": "stdout",
     "output_type": "stream",
     "text": [
      "jas\n"
     ]
    }
   ],
   "source": [
    "print(\"jas\")"
   ]
  },
  {
   "cell_type": "code",
   "execution_count": 4,
   "id": "8241fe78-b9d3-4de7-917b-017934f251fd",
   "metadata": {},
   "outputs": [
    {
     "name": "stdout",
     "output_type": "stream",
     "text": [
      "10\n"
     ]
    }
   ],
   "source": [
    "a = 10\n",
    "print(a)"
   ]
  },
  {
   "cell_type": "code",
   "execution_count": 5,
   "id": "1c3279c9-2928-491f-aee2-c62457d34489",
   "metadata": {},
   "outputs": [
    {
     "name": "stdout",
     "output_type": "stream",
     "text": [
      "10\n"
     ]
    }
   ],
   "source": [
    "jas = 10\n",
    "print(jas)\n"
   ]
  },
  {
   "cell_type": "code",
   "execution_count": 6,
   "id": "43732afc-9bfe-4fc4-8987-7ec411992b68",
   "metadata": {},
   "outputs": [
    {
     "name": "stdout",
     "output_type": "stream",
     "text": [
      "10 20 30 50\n"
     ]
    }
   ],
   "source": [
    "a = 10\n",
    "b = 20\n",
    "c = 30\n",
    "d = 50\n",
    "print(a,b,c,d)\n"
   ]
  },
  {
   "cell_type": "code",
   "execution_count": 7,
   "id": "cff72a94-a1c9-4c24-aa64-94fa8c4b92e7",
   "metadata": {},
   "outputs": [
    {
     "name": "stdout",
     "output_type": "stream",
     "text": [
      "2\n"
     ]
    },
    {
     "data": {
      "text/plain": [
       "int"
      ]
     },
     "execution_count": 7,
     "metadata": {},
     "output_type": "execute_result"
    }
   ],
   "source": [
    "a = 2\n",
    "print(a)\n",
    "type(a)"
   ]
  },
  {
   "cell_type": "code",
   "execution_count": 8,
   "id": "1ee4f460-1a28-4c01-905b-b1598a76743a",
   "metadata": {},
   "outputs": [
    {
     "name": "stdout",
     "output_type": "stream",
     "text": [
      "10:20:30:40\n"
     ]
    }
   ],
   "source": [
    "a = 10\n",
    "b = 20\n",
    "c = 30\n",
    "d = 40\n",
    "print(a,b,c,d,sep = \":\")"
   ]
  },
  {
   "cell_type": "code",
   "execution_count": 9,
   "id": "808d6d9c-6123-4f7a-8e9f-710cfb68ae65",
   "metadata": {},
   "outputs": [
    {
     "name": "stdout",
     "output_type": "stream",
     "text": [
      "the value of a: 10\n"
     ]
    }
   ],
   "source": [
    "a = 10\n",
    "print(\"the value of a:\",a)"
   ]
  },
  {
   "cell_type": "code",
   "execution_count": 10,
   "id": "3d22bc85-aa70-4bdc-a1f0-e3dbf86815ad",
   "metadata": {},
   "outputs": [],
   "source": [
    "fname = 'sas'\n",
    "lname = 'jas'\n"
   ]
  },
  {
   "cell_type": "code",
   "execution_count": 11,
   "id": "bd786d78-312a-4ed8-9c30-59eba4fcf89c",
   "metadata": {},
   "outputs": [
    {
     "name": "stdout",
     "output_type": "stream",
     "text": [
      "NAME sas jas\n"
     ]
    }
   ],
   "source": [
    "print(\"NAME\",fname,lname)"
   ]
  },
  {
   "cell_type": "code",
   "execution_count": 12,
   "id": "2e369c21-52c2-456e-91a1-caa4324f073c",
   "metadata": {},
   "outputs": [
    {
     "name": "stdout",
     "output_type": "stream",
     "text": [
      "My fname is: sas and lname is: jas\n"
     ]
    }
   ],
   "source": [
    "print(\"My fname is:\",fname,\"and lname is:\",lname)"
   ]
  },
  {
   "cell_type": "code",
   "execution_count": 13,
   "id": "f5b9c8c8-14d1-4b6a-b248-2bf29df7d9b6",
   "metadata": {},
   "outputs": [
    {
     "name": "stdout",
     "output_type": "stream",
     "text": [
      "My fname is: sas and lname is: jas\n"
     ]
    }
   ],
   "source": [
    "print(\"My fname is: {} and lname is: {}\".format(fname,lname))"
   ]
  },
  {
   "cell_type": "code",
   "execution_count": 14,
   "id": "3879978b-bf8d-4d63-b886-a31ed88d745a",
   "metadata": {},
   "outputs": [
    {
     "name": "stdout",
     "output_type": "stream",
     "text": [
      "My fname is: jas and last name  is : jas\n"
     ]
    }
   ],
   "source": [
    "print(\"My fname is: {f} and last name  is : {f}\".format(l=lname,f=lname))"
   ]
  },
  {
   "cell_type": "code",
   "execution_count": 15,
   "id": "37bf9874-46ca-421d-a46a-53968e3845f8",
   "metadata": {},
   "outputs": [
    {
     "name": "stdout",
     "output_type": "stream",
     "text": [
      "Hello jasmine goodmorning jasmine\n"
     ]
    }
   ],
   "source": [
    "print(\"Hello {name} {greeting} {name}\".format(name = \"jasmine\",greeting = \"goodmorning\"))"
   ]
  },
  {
   "cell_type": "code",
   "execution_count": 16,
   "id": "eebaaef7-526a-45b0-a55e-b0b7c0c6d5bd",
   "metadata": {},
   "outputs": [
    {
     "name": "stdout",
     "output_type": "stream",
     "text": [
      "The story of xy,yz,yy\n"
     ]
    }
   ],
   "source": [
    "print(\"The story of {},{},{other}\".format(\"xy\",\"yz\",other=\"yy\"))"
   ]
  },
  {
   "cell_type": "code",
   "execution_count": 17,
   "id": "3e0f315f-441f-445b-bfe8-39917bb61190",
   "metadata": {},
   "outputs": [
    {
     "name": "stdout",
     "output_type": "stream",
     "text": [
      "My num is:13 and my name is:jas\n"
     ]
    }
   ],
   "source": [
    "num = 13\n",
    "name = \"jas\"\n",
    "print(\"My num is:{one} and my name is:{two}\".format(one = num,two = name))"
   ]
  },
  {
   "cell_type": "code",
   "execution_count": 18,
   "id": "e0bd29da-b157-4b62-bb76-2969149fbe53",
   "metadata": {},
   "outputs": [
    {
     "name": "stdout",
     "output_type": "stream",
     "text": [
      "My num is :13 and my name is:jas\n"
     ]
    }
   ],
   "source": [
    "print(\"My num is :{} and my name is:{}\".format(num,name))"
   ]
  },
  {
   "cell_type": "code",
   "execution_count": 19,
   "id": "b895f3c1-3c06-4518-bf70-1e2a798b8e86",
   "metadata": {},
   "outputs": [
    {
     "name": "stdout",
     "output_type": "stream",
     "text": [
      "My name is : 13 and my name is: jas\n"
     ]
    }
   ],
   "source": [
    "print(\"My name is :\",num,\"and my name is:\",name)"
   ]
  },
  {
   "cell_type": "code",
   "execution_count": 20,
   "id": "b46b4ca7-1646-48b8-82aa-7dd5a2f83b35",
   "metadata": {},
   "outputs": [
    {
     "name": "stdin",
     "output_type": "stream",
     "text": [
      "Enter the value of c:  10\n",
      "Enter the value of d:  30\n"
     ]
    },
    {
     "name": "stdout",
     "output_type": "stream",
     "text": [
      "ADD: 40\n",
      "Sum: 40, Diff:-20, mult:300, Div:0.3333333333333333, Mod: 10\n"
     ]
    }
   ],
   "source": [
    "c = int(input(\"Enter the value of c: \"))\n",
    "d= int(input(\"Enter the value of d: \"))\n",
    "add=c+d\n",
    "sub=c-d\n",
    "mult=c*d\n",
    "div=c/d\n",
    "mod=c%d\n",
    "print(\"ADD:\",add)\n",
    "print(\"Sum: {0}, Diff:{1}, mult:{2}, Div:{3}, Mod: {4}\".format(add, sub, mult, div, mod))\n",
    "      "
   ]
  },
  {
   "cell_type": "code",
   "execution_count": 21,
   "id": "eab106bd-c379-453e-b1be-bd3f5c202300",
   "metadata": {},
   "outputs": [
    {
     "name": "stdout",
     "output_type": "stream",
     "text": [
      "Sum: 40,Diff :-20,Mult:300,Div:0.3333333333333333,Mod:10\n"
     ]
    }
   ],
   "source": [
    "print(\"Sum: {},Diff :{},Mult:{},Div:{},Mod:{}\".format(add,sub,mult,div,mod))"
   ]
  },
  {
   "cell_type": "code",
   "execution_count": 22,
   "id": "f41202f9-ebed-4ad9-a602-e35993e8f075",
   "metadata": {},
   "outputs": [
    {
     "name": "stdout",
     "output_type": "stream",
     "text": [
      "Sum: 40,Diff:-20,Mult:300,Div:       0.333333.Mod:10\n"
     ]
    }
   ],
   "source": [
    "print(\"Sum: %d,Diff:%d,Mult:%d,Div:%15.6f.Mod:%d\" %(add,sub,mult,div,mod))"
   ]
  },
  {
   "cell_type": "code",
   "execution_count": 23,
   "id": "fa24cbcf-d718-43d8-b74a-b1dea91de91a",
   "metadata": {},
   "outputs": [
    {
     "name": "stdout",
     "output_type": "stream",
     "text": [
      "welcome masterclass |\n"
     ]
    }
   ],
   "source": [
    "a = \"masterclass\"\n",
    "print(f\"welcome {a} |\")"
   ]
  },
  {
   "cell_type": "code",
   "execution_count": 24,
   "id": "d32b4842-183d-4e03-aeef-1f11f69a2c96",
   "metadata": {},
   "outputs": [
    {
     "name": "stdin",
     "output_type": "stream",
     "text": [
      "enter a clgname: abit\n",
      "enter the number of students: 340\n"
     ]
    },
    {
     "name": "stdout",
     "output_type": "stream",
     "text": [
      "the name of clg sand the number of students: abit 340\n"
     ]
    }
   ],
   "source": [
    "d = input(\"enter a clgname:\")\n",
    "e = input(\"enter the number of students:\")\n",
    "print(\"the name of clg sand the number of students:\",d,e)"
   ]
  },
  {
   "cell_type": "code",
   "execution_count": 25,
   "id": "d48c119f-d0ef-4bc0-be21-450e951024d6",
   "metadata": {},
   "outputs": [
    {
     "name": "stdout",
     "output_type": "stream",
     "text": [
      "the name of clg abit and num of students 340\n"
     ]
    }
   ],
   "source": [
    "print(\"the name of clg\",d,\"and num of students\",e)"
   ]
  },
  {
   "cell_type": "code",
   "execution_count": 26,
   "id": "762c4021-4ce5-49a6-99db-e8f58c60c631",
   "metadata": {},
   "outputs": [
    {
     "data": {
      "text/plain": [
       "' JAS'"
      ]
     },
     "execution_count": 26,
     "metadata": {},
     "output_type": "execute_result"
    }
   ],
   "source": [
    "\n",
    "c =' JAS'\n",
    "\n",
    "c"
   ]
  },
  {
   "cell_type": "code",
   "execution_count": 27,
   "id": "dc5889ae-412f-4037-9d60-64ccac617885",
   "metadata": {},
   "outputs": [
    {
     "name": "stdout",
     "output_type": "stream",
     "text": [
      "20\n"
     ]
    }
   ],
   "source": [
    "print(b)"
   ]
  },
  {
   "cell_type": "code",
   "execution_count": 28,
   "id": "61f0c40f-fc6f-49bc-bb91-da864c909d04",
   "metadata": {},
   "outputs": [
    {
     "data": {
      "text/plain": [
       "50"
      ]
     },
     "execution_count": 28,
     "metadata": {},
     "output_type": "execute_result"
    }
   ],
   "source": [
    "a =50\n",
    "a"
   ]
  },
  {
   "cell_type": "code",
   "execution_count": 29,
   "id": "9335b0b3-b80a-42cd-884a-9719c0f6868d",
   "metadata": {},
   "outputs": [
    {
     "data": {
      "text/plain": [
       "int"
      ]
     },
     "execution_count": 29,
     "metadata": {},
     "output_type": "execute_result"
    }
   ],
   "source": [
    "type(a)"
   ]
  },
  {
   "cell_type": "code",
   "execution_count": 30,
   "id": "2bf2a140-77d1-4baa-b66c-fe466553d337",
   "metadata": {},
   "outputs": [
    {
     "data": {
      "text/plain": [
       "int"
      ]
     },
     "execution_count": 30,
     "metadata": {},
     "output_type": "execute_result"
    }
   ],
   "source": [
    "type(b)"
   ]
  },
  {
   "cell_type": "code",
   "execution_count": 31,
   "id": "1ab872e2-c1e9-4bb2-81c3-cbe49896445c",
   "metadata": {},
   "outputs": [
    {
     "data": {
      "text/plain": [
       "' JAS'"
      ]
     },
     "execution_count": 31,
     "metadata": {},
     "output_type": "execute_result"
    }
   ],
   "source": [
    "b=' JAS'\n",
    "b"
   ]
  },
  {
   "cell_type": "code",
   "execution_count": 32,
   "id": "74e9549d-bf4f-49b7-a5d2-11fe54fb46b3",
   "metadata": {},
   "outputs": [
    {
     "data": {
      "text/plain": [
       "80"
      ]
     },
     "execution_count": 32,
     "metadata": {},
     "output_type": "execute_result"
    }
   ],
   "source": [
    "ib =80\n",
    "ib"
   ]
  },
  {
   "cell_type": "code",
   "execution_count": 33,
   "id": "cc05ec49-3277-41ab-b1e0-74aeae53cd45",
   "metadata": {},
   "outputs": [
    {
     "data": {
      "text/plain": [
       "'80'"
      ]
     },
     "execution_count": 33,
     "metadata": {},
     "output_type": "execute_result"
    }
   ],
   "source": [
    "c =\"80\"\n",
    "c"
   ]
  },
  {
   "cell_type": "code",
   "execution_count": 34,
   "id": "048c7c32-415b-49ad-96f9-98d16a086bd9",
   "metadata": {},
   "outputs": [
    {
     "data": {
      "text/plain": [
       "str"
      ]
     },
     "execution_count": 34,
     "metadata": {},
     "output_type": "execute_result"
    }
   ],
   "source": [
    "type(c)"
   ]
  },
  {
   "cell_type": "code",
   "execution_count": 35,
   "id": "400fd8f3-9b4e-4e2a-a024-e373ef5e2561",
   "metadata": {},
   "outputs": [
    {
     "data": {
      "text/plain": [
       "'80a'"
      ]
     },
     "execution_count": 35,
     "metadata": {},
     "output_type": "execute_result"
    }
   ],
   "source": [
    "cd = \"80a\"\n",
    "cd"
   ]
  },
  {
   "cell_type": "code",
   "execution_count": 36,
   "id": "985ae21d-eabd-4aa1-836e-8d62e402873c",
   "metadata": {},
   "outputs": [
    {
     "data": {
      "text/plain": [
       "str"
      ]
     },
     "execution_count": 36,
     "metadata": {},
     "output_type": "execute_result"
    }
   ],
   "source": [
    "type(cd)"
   ]
  },
  {
   "cell_type": "code",
   "execution_count": 37,
   "id": "39f3202e-832c-484e-97cc-c4dc43082060",
   "metadata": {},
   "outputs": [
    {
     "name": "stdout",
     "output_type": "stream",
     "text": [
      "['False', 'None', 'True', 'and', 'as', 'assert', 'async', 'await', 'break', 'class', 'continue', 'def', 'del', 'elif', 'else', 'except', 'finally', 'for', 'from', 'global', 'if', 'import', 'in', 'is', 'lambda', 'nonlocal', 'not', 'or', 'pass', 'raise', 'return', 'try', 'while', 'with', 'yield']\n"
     ]
    }
   ],
   "source": [
    "import keyword\n",
    "print(keyword.kwlist)"
   ]
  },
  {
   "cell_type": "code",
   "execution_count": 38,
   "id": "a67e663c-e123-4a2f-ae1a-8efb36cf6356",
   "metadata": {},
   "outputs": [
    {
     "data": {
      "text/plain": [
       "35"
      ]
     },
     "execution_count": 38,
     "metadata": {},
     "output_type": "execute_result"
    }
   ],
   "source": [
    "len(keyword.kwlist)"
   ]
  },
  {
   "cell_type": "code",
   "execution_count": 39,
   "id": "8dbb4cbf-06c6-423b-b3bc-5c9fbf671a30",
   "metadata": {},
   "outputs": [
    {
     "ename": "SyntaxError",
     "evalue": "cannot assign to False (3627396313.py, line 1)",
     "output_type": "error",
     "traceback": [
      "\u001b[1;36m  Cell \u001b[1;32mIn[39], line 1\u001b[1;36m\u001b[0m\n\u001b[1;33m    False = \"9563\"\u001b[0m\n\u001b[1;37m    ^\u001b[0m\n\u001b[1;31mSyntaxError\u001b[0m\u001b[1;31m:\u001b[0m cannot assign to False\n"
     ]
    }
   ],
   "source": [
    "False = \"9563\"\n",
    "False"
   ]
  },
  {
   "cell_type": "code",
   "execution_count": 71,
   "id": "dc5d6500-1ea9-4b27-a866-ca8a4cd55fda",
   "metadata": {},
   "outputs": [
    {
     "data": {
      "text/plain": [
       "50"
      ]
     },
     "execution_count": 71,
     "metadata": {},
     "output_type": "execute_result"
    }
   ],
   "source": [
    "a1 =50\n",
    "a1"
   ]
  },
  {
   "cell_type": "code",
   "execution_count": 72,
   "id": "cdb4a766-56dc-44b1-bf4a-ec19ffb5d99f",
   "metadata": {},
   "outputs": [
    {
     "ename": "SyntaxError",
     "evalue": "invalid decimal literal (466779400.py, line 1)",
     "output_type": "error",
     "traceback": [
      "\u001b[1;36m  Cell \u001b[1;32mIn[72], line 1\u001b[1;36m\u001b[0m\n\u001b[1;33m    1b = 90\u001b[0m\n\u001b[1;37m    ^\u001b[0m\n\u001b[1;31mSyntaxError\u001b[0m\u001b[1;31m:\u001b[0m invalid decimal literal\n"
     ]
    }
   ],
   "source": [
    "1b = 90\n",
    "1b"
   ]
  },
  {
   "cell_type": "code",
   "execution_count": 73,
   "id": "abbfb565-80f0-4697-a06e-33e44b0ff173",
   "metadata": {},
   "outputs": [
    {
     "ename": "SyntaxError",
     "evalue": "invalid syntax (4215880195.py, line 1)",
     "output_type": "error",
     "traceback": [
      "\u001b[1;36m  Cell \u001b[1;32mIn[73], line 1\u001b[1;36m\u001b[0m\n\u001b[1;33m    b$7 = 90\u001b[0m\n\u001b[1;37m     ^\u001b[0m\n\u001b[1;31mSyntaxError\u001b[0m\u001b[1;31m:\u001b[0m invalid syntax\n"
     ]
    }
   ],
   "source": [
    "b$7 = 90\n",
    "b$7"
   ]
  },
  {
   "cell_type": "code",
   "execution_count": 74,
   "id": "49ff5941-9b89-4f8c-bda3-91d818639b1b",
   "metadata": {},
   "outputs": [
    {
     "data": {
      "text/plain": [
       "504"
      ]
     },
     "execution_count": 74,
     "metadata": {},
     "output_type": "execute_result"
    }
   ],
   "source": [
    "b_6 = 504\n",
    "b_6"
   ]
  },
  {
   "cell_type": "code",
   "execution_count": 75,
   "id": "4d7c3cad-6786-479b-9f4a-b248e7e79109",
   "metadata": {},
   "outputs": [
    {
     "data": {
      "text/plain": [
       "2355043733552"
      ]
     },
     "execution_count": 75,
     "metadata": {},
     "output_type": "execute_result"
    }
   ],
   "source": [
    "#StorageLocation\n",
    "id(b_6)"
   ]
  },
  {
   "cell_type": "code",
   "execution_count": 76,
   "id": "d6c5637f-e0bf-4a11-a312-e09076d3d10a",
   "metadata": {},
   "outputs": [
    {
     "data": {
      "text/plain": [
       "2355043738352"
      ]
     },
     "execution_count": 76,
     "metadata": {},
     "output_type": "execute_result"
    }
   ],
   "source": [
    "V = 504\n",
    "V\n",
    "id(V)"
   ]
  },
  {
   "cell_type": "code",
   "execution_count": 77,
   "id": "6d772e19-6a1d-4a3c-921a-02c31fea6935",
   "metadata": {},
   "outputs": [
    {
     "data": {
      "text/plain": [
       "2355043732976"
      ]
     },
     "execution_count": 77,
     "metadata": {},
     "output_type": "execute_result"
    }
   ],
   "source": [
    "V = 502\n",
    "id(V)"
   ]
  },
  {
   "cell_type": "code",
   "execution_count": 78,
   "id": "f19e8a47-2326-4bee-a516-59bf67c0c88e",
   "metadata": {},
   "outputs": [
    {
     "data": {
      "text/plain": [
       "140709415603720"
      ]
     },
     "execution_count": 78,
     "metadata": {},
     "output_type": "execute_result"
    }
   ],
   "source": [
    "b = 88\n",
    "c = 86\n",
    "id(b)"
   ]
  },
  {
   "cell_type": "code",
   "execution_count": 82,
   "id": "86dc5c66-3946-451b-9816-c959ca6a7209",
   "metadata": {},
   "outputs": [
    {
     "data": {
      "text/plain": [
       "140709415603656"
      ]
     },
     "execution_count": 82,
     "metadata": {},
     "output_type": "execute_result"
    }
   ],
   "source": [
    "id(c)"
   ]
  },
  {
   "cell_type": "code",
   "execution_count": 81,
   "id": "5b31e783-27d0-4175-ba41-b1cf478df722",
   "metadata": {},
   "outputs": [
    {
     "data": {
      "text/plain": [
       "140709415603720"
      ]
     },
     "execution_count": 81,
     "metadata": {},
     "output_type": "execute_result"
    }
   ],
   "source": [
    "d = 88\n",
    "id(d)"
   ]
  },
  {
   "cell_type": "code",
   "execution_count": 80,
   "id": "f7cea62d-e21c-470f-b301-449ef0752e87",
   "metadata": {},
   "outputs": [
    {
     "data": {
      "text/plain": [
       "140709415602760"
      ]
     },
     "execution_count": 80,
     "metadata": {},
     "output_type": "execute_result"
    }
   ],
   "source": [
    "d = 58\n",
    "id(d)"
   ]
  },
  {
   "cell_type": "code",
   "execution_count": 79,
   "id": "ae7da65b-70bb-4dc6-ba51-2355b87d9769",
   "metadata": {},
   "outputs": [
    {
     "name": "stdout",
     "output_type": "stream",
     "text": [
      "The summation of two numbers are 70\n"
     ]
    }
   ],
   "source": [
    "a = 20\n",
    "b = 50\n",
    "sum = a+b\n",
    "print(\"The summation of two numbers are\",sum)"
   ]
  },
  {
   "cell_type": "code",
   "execution_count": null,
   "id": "cb754331-2f21-4665-90cc-bf804b7dde48",
   "metadata": {},
   "outputs": [],
   "source": [
    "a = 20\n",
    "b = 50\n",
    "sun = a+b\n",
    "print(\"The summation of two numbers are\",sum)"
   ]
  },
  {
   "cell_type": "code",
   "execution_count": null,
   "id": "d2667d87-89f4-42bc-bd0f-47b57cc0feef",
   "metadata": {},
   "outputs": [],
   "source": [
    "\"The summation of two numbers are\",sum"
   ]
  },
  {
   "cell_type": "code",
   "execution_count": 83,
   "id": "d5253145-5fe7-406e-89f3-7447ec7d5d9c",
   "metadata": {},
   "outputs": [
    {
     "data": {
      "text/plain": [
       "70"
      ]
     },
     "execution_count": 83,
     "metadata": {},
     "output_type": "execute_result"
    }
   ],
   "source": [
    "sum"
   ]
  },
  {
   "cell_type": "code",
   "execution_count": 84,
   "id": "eab836f8-0ede-46b0-9fe3-9b591d4161b7",
   "metadata": {},
   "outputs": [
    {
     "data": {
      "text/plain": [
       "9"
      ]
     },
     "execution_count": 84,
     "metadata": {},
     "output_type": "execute_result"
    }
   ],
   "source": [
    "a = b =c = 9\n",
    "a"
   ]
  },
  {
   "cell_type": "code",
   "execution_count": 85,
   "id": "64d3a152-21c5-4ecb-9ed0-369fa96f98fc",
   "metadata": {},
   "outputs": [
    {
     "data": {
      "text/plain": [
       "9"
      ]
     },
     "execution_count": 85,
     "metadata": {},
     "output_type": "execute_result"
    }
   ],
   "source": [
    "b"
   ]
  },
  {
   "cell_type": "code",
   "execution_count": 86,
   "id": "793589a4-13d1-4e99-84ab-fb6c4d41c5a7",
   "metadata": {},
   "outputs": [
    {
     "data": {
      "text/plain": [
       "9"
      ]
     },
     "execution_count": 86,
     "metadata": {},
     "output_type": "execute_result"
    }
   ],
   "source": [
    "c"
   ]
  },
  {
   "cell_type": "code",
   "execution_count": 87,
   "id": "63d68f7e-5673-4b2f-abbb-3ba243b7fcc3",
   "metadata": {},
   "outputs": [
    {
     "name": "stdout",
     "output_type": "stream",
     "text": [
      "85 63 41\n"
     ]
    }
   ],
   "source": [
    "a = 85\n",
    "b = 63\n",
    "c = 41\n",
    "abc = 85\n",
    "print(a,b,c)"
   ]
  },
  {
   "cell_type": "code",
   "execution_count": 88,
   "id": "b5e3d618-a0bd-40c9-8935-63f8575e7e79",
   "metadata": {},
   "outputs": [
    {
     "name": "stdout",
     "output_type": "stream",
     "text": [
      "85\n"
     ]
    }
   ],
   "source": [
    "print(abc)"
   ]
  },
  {
   "cell_type": "code",
   "execution_count": 104,
   "id": "55ca106e-07ec-47e4-ba91-9f9785c37cd8",
   "metadata": {},
   "outputs": [
    {
     "name": "stdout",
     "output_type": "stream",
     "text": [
      "60\n"
     ]
    }
   ],
   "source": [
    "a = 60\n",
    "print(a)"
   ]
  },
  {
   "cell_type": "code",
   "execution_count": 102,
   "id": "1f6da724-16cd-4c1f-b9bd-90a1b4717e4c",
   "metadata": {},
   "outputs": [
    {
     "ename": "NameError",
     "evalue": "name 'a' is not defined",
     "output_type": "error",
     "traceback": [
      "\u001b[1;31m---------------------------------------------------------------------------\u001b[0m",
      "\u001b[1;31mNameError\u001b[0m                                 Traceback (most recent call last)",
      "Cell \u001b[1;32mIn[102], line 2\u001b[0m\n\u001b[0;32m      1\u001b[0m \u001b[38;5;66;03m#Delete Element\u001b[39;00m\n\u001b[1;32m----> 2\u001b[0m \u001b[38;5;28;01mdel\u001b[39;00m(a)\n",
      "\u001b[1;31mNameError\u001b[0m: name 'a' is not defined"
     ]
    }
   ],
   "source": [
    "#Delete Element\n",
    "del(a)"
   ]
  },
  {
   "cell_type": "code",
   "execution_count": 101,
   "id": "0fac028d-b46d-45b0-a0d7-2d86e96fb8f9",
   "metadata": {},
   "outputs": [
    {
     "ename": "NameError",
     "evalue": "name 'a' is not defined",
     "output_type": "error",
     "traceback": [
      "\u001b[1;31m---------------------------------------------------------------------------\u001b[0m",
      "\u001b[1;31mNameError\u001b[0m                                 Traceback (most recent call last)",
      "Cell \u001b[1;32mIn[101], line 1\u001b[0m\n\u001b[1;32m----> 1\u001b[0m \u001b[38;5;28mprint\u001b[39m(a)\n",
      "\u001b[1;31mNameError\u001b[0m: name 'a' is not defined"
     ]
    }
   ],
   "source": [
    "print(a)"
   ]
  },
  {
   "cell_type": "code",
   "execution_count": 100,
   "id": "2d4e45d1-ded2-4117-bd40-6dc6e459988f",
   "metadata": {},
   "outputs": [],
   "source": [
    "# to c lear van ab l e expl orer.\n",
    "a=20\n",
    "b=30\n",
    "c=40\n",
    "del a,b"
   ]
  },
  {
   "cell_type": "code",
   "execution_count": 99,
   "id": "2978d4c1-6413-41f6-8941-122deb0d164d",
   "metadata": {},
   "outputs": [
    {
     "name": "stdout",
     "output_type": "stream",
     "text": [
      "30\n"
     ]
    }
   ],
   "source": [
    "print(c)"
   ]
  },
  {
   "cell_type": "code",
   "execution_count": 98,
   "id": "0da7ea00-7567-4be3-8d30-815052f4fff6",
   "metadata": {},
   "outputs": [
    {
     "ename": "SyntaxError",
     "evalue": "invalid decimal literal (2090317641.py, line 1)",
     "output_type": "error",
     "traceback": [
      "\u001b[1;36m  Cell \u001b[1;32mIn[98], line 1\u001b[1;36m\u001b[0m\n\u001b[1;33m    1a= 20\u001b[0m\n\u001b[1;37m    ^\u001b[0m\n\u001b[1;31mSyntaxError\u001b[0m\u001b[1;31m:\u001b[0m invalid decimal literal\n"
     ]
    }
   ],
   "source": [
    "1a= 20"
   ]
  },
  {
   "cell_type": "code",
   "execution_count": 97,
   "id": "dda87ecd-f8df-4bc9-bbf7-88dbc021b913",
   "metadata": {},
   "outputs": [
    {
     "ename": "SyntaxError",
     "evalue": "cannot assign to expression here. Maybe you meant '==' instead of '='? (4286787879.py, line 1)",
     "output_type": "error",
     "traceback": [
      "\u001b[1;36m  Cell \u001b[1;32mIn[97], line 1\u001b[1;36m\u001b[0m\n\u001b[1;33m    a@1= 40\u001b[0m\n\u001b[1;37m    ^\u001b[0m\n\u001b[1;31mSyntaxError\u001b[0m\u001b[1;31m:\u001b[0m cannot assign to expression here. Maybe you meant '==' instead of '='?\n"
     ]
    }
   ],
   "source": [
    "a@1= 40"
   ]
  },
  {
   "cell_type": "code",
   "execution_count": 96,
   "id": "9c9bd1c2-1cce-40c8-970f-f724b93f5022",
   "metadata": {},
   "outputs": [
    {
     "name": "stdout",
     "output_type": "stream",
     "text": [
      "10 20 30\n"
     ]
    }
   ],
   "source": [
    "a=10\n",
    "b=20\n",
    "c=30\n",
    "print(a,b,c)"
   ]
  },
  {
   "cell_type": "code",
   "execution_count": 95,
   "id": "10787a9e-9162-4cc0-b5c3-75e0e680ff98",
   "metadata": {},
   "outputs": [
    {
     "name": "stdout",
     "output_type": "stream",
     "text": [
      "10 20 30\n"
     ]
    }
   ],
   "source": [
    "# we can as ss ign /r u L tiple van ab les in a s i ngl e L One\n",
    "a,b,c = 10,20,30\n",
    "print(a,b,c)"
   ]
  },
  {
   "cell_type": "code",
   "execution_count": 42,
   "id": "8d5cb8ac-55c5-4b87-ad95-34fb689ae420",
   "metadata": {},
   "outputs": [
    {
     "name": "stdout",
     "output_type": "stream",
     "text": [
      "AI\n"
     ]
    }
   ],
   "source": [
    "# as s ign the same val ue to /r uL tip Le var i ab Les at once\n",
    "a = b = c = \"AI\"\n",
    "print(c)"
   ]
  },
  {
   "cell_type": "code",
   "execution_count": 94,
   "id": "715a2c6d-ff87-44ab-9b77-08b94885c58a",
   "metadata": {},
   "outputs": [
    {
     "ename": "TypeError",
     "evalue": "can only concatenate str (not \"int\") to str",
     "output_type": "error",
     "traceback": [
      "\u001b[1;31m---------------------------------------------------------------------------\u001b[0m",
      "\u001b[1;31mTypeError\u001b[0m                                 Traceback (most recent call last)",
      "Cell \u001b[1;32mIn[94], line 3\u001b[0m\n\u001b[0;32m      1\u001b[0m a \u001b[38;5;241m=\u001b[39m \u001b[38;5;124m\"\u001b[39m\u001b[38;5;124mjasmine\u001b[39m\u001b[38;5;124m\"\u001b[39m\n\u001b[0;32m      2\u001b[0m b \u001b[38;5;241m=\u001b[39m \u001b[38;5;241m23\u001b[39m\n\u001b[1;32m----> 3\u001b[0m \u001b[38;5;28mprint\u001b[39m(a\u001b[38;5;241m+\u001b[39mb)\n",
      "\u001b[1;31mTypeError\u001b[0m: can only concatenate str (not \"int\") to str"
     ]
    }
   ],
   "source": [
    "a = \"jasmine\"\n",
    "b = 23\n",
    "print(a+b)"
   ]
  },
  {
   "cell_type": "code",
   "execution_count": 93,
   "id": "ef49d35c-773e-4f45-94aa-bb85a45aa663",
   "metadata": {},
   "outputs": [
    {
     "name": "stdout",
     "output_type": "stream",
     "text": [
      "jasmine23\n",
      "9\n"
     ]
    }
   ],
   "source": [
    "a = \"jasmine\"\n",
    "b = \"23\"\n",
    "print(a+b)\n",
    "print(len(a+b))"
   ]
  },
  {
   "cell_type": "code",
   "execution_count": 92,
   "id": "0fa7095f-f00b-4a31-ad6b-a1df28af988d",
   "metadata": {},
   "outputs": [
    {
     "name": "stdin",
     "output_type": "stream",
     "text": [
      "enter num 10\n"
     ]
    },
    {
     "data": {
      "text/plain": [
       "str"
      ]
     },
     "execution_count": 92,
     "metadata": {},
     "output_type": "execute_result"
    }
   ],
   "source": [
    "a = input(\"enter num\")\n",
    "type(a)"
   ]
  },
  {
   "cell_type": "code",
   "execution_count": 90,
   "id": "01f0ebb9-d660-4738-bf9b-b23e4d896d50",
   "metadata": {},
   "outputs": [
    {
     "ename": "NameError",
     "evalue": "name 'true' is not defined",
     "output_type": "error",
     "traceback": [
      "\u001b[1;31m---------------------------------------------------------------------------\u001b[0m",
      "\u001b[1;31mNameError\u001b[0m                                 Traceback (most recent call last)",
      "Cell \u001b[1;32mIn[90], line 3\u001b[0m\n\u001b[0;32m      1\u001b[0m a \u001b[38;5;241m=\u001b[39m \u001b[38;5;28;01mTrue\u001b[39;00m\n\u001b[0;32m      2\u001b[0m \u001b[38;5;28mtype\u001b[39m(a)\n\u001b[1;32m----> 3\u001b[0m b\u001b[38;5;241m=\u001b[39m true\n\u001b[0;32m      4\u001b[0m \u001b[38;5;28mtype\u001b[39m(b)\n",
      "\u001b[1;31mNameError\u001b[0m: name 'true' is not defined"
     ]
    }
   ],
   "source": [
    "a = True\n",
    "type(a)\n",
    "b= true\n",
    "type(b)"
   ]
  },
  {
   "cell_type": "code",
   "execution_count": 89,
   "id": "7aaa0ad9-9085-41c7-b2cd-035a2cd94aba",
   "metadata": {},
   "outputs": [
    {
     "name": "stdout",
     "output_type": "stream",
     "text": [
      "2.1\n"
     ]
    }
   ],
   "source": [
    "a = 2.1\n",
    "b = False\n",
    "print(a+b)"
   ]
  },
  {
   "cell_type": "code",
   "execution_count": 67,
   "id": "25d81fcf-13fe-4c4c-a9a5-4cfab8172be1",
   "metadata": {},
   "outputs": [
    {
     "name": "stdout",
     "output_type": "stream",
     "text": [
      "VTRSBB\n"
     ]
    }
   ],
   "source": [
    "z = \"BBSRTV\"\n",
    "print(z[ : :-1])"
   ]
  },
  {
   "cell_type": "code",
   "execution_count": 66,
   "id": "5f539e57-4e9f-43ff-a718-4cdc539c25c4",
   "metadata": {},
   "outputs": [
    {
     "ename": "NameError",
     "evalue": "name 'z' is not defined",
     "output_type": "error",
     "traceback": [
      "\u001b[1;31m---------------------------------------------------------------------------\u001b[0m",
      "\u001b[1;31mNameError\u001b[0m                                 Traceback (most recent call last)",
      "Cell \u001b[1;32mIn[66], line 1\u001b[0m\n\u001b[1;32m----> 1\u001b[0m \u001b[38;5;28mprint\u001b[39m(z[\u001b[38;5;241m-\u001b[39m\u001b[38;5;241m1\u001b[39m: ])\n",
      "\u001b[1;31mNameError\u001b[0m: name 'z' is not defined"
     ]
    }
   ],
   "source": [
    "print(z[-1: ])"
   ]
  },
  {
   "cell_type": "code",
   "execution_count": 69,
   "id": "b3d4db18-fe8c-40e0-beb0-8ae46b021973",
   "metadata": {},
   "outputs": [
    {
     "name": "stdout",
     "output_type": "stream",
     "text": [
      "BBSRT\n"
     ]
    }
   ],
   "source": [
    "print(z[ :-1])"
   ]
  },
  {
   "cell_type": "code",
   "execution_count": 68,
   "id": "f8860590-8063-4282-b6b7-ac508153fc69",
   "metadata": {},
   "outputs": [
    {
     "name": "stdout",
     "output_type": "stream",
     "text": [
      "BBSRTV\n"
     ]
    }
   ],
   "source": [
    "print(z[0:7:1])"
   ]
  },
  {
   "cell_type": "raw",
   "id": "48063a5a-bac8-4d22-9356-d6479a0da6d6",
   "metadata": {},
   "source": []
  },
  {
   "cell_type": "code",
   "execution_count": 70,
   "id": "f7bddbde-386a-4110-a9e1-a87be783839a",
   "metadata": {},
   "outputs": [
    {
     "name": "stdout",
     "output_type": "stream",
     "text": [
      "BST\n"
     ]
    }
   ],
   "source": [
    "print(z[0:7:2])"
   ]
  },
  {
   "cell_type": "code",
   "execution_count": null,
   "id": "394def9f-e999-48a2-b366-606cccf4b26c",
   "metadata": {},
   "outputs": [],
   "source": [
    "z[0:7:-1]"
   ]
  },
  {
   "cell_type": "code",
   "execution_count": 41,
   "id": "64e3f4b0-3b0e-4f1e-9ad0-504107f8cfaa",
   "metadata": {},
   "outputs": [
    {
     "name": "stdin",
     "output_type": "stream",
     "text": [
      "Enter gmails: jasminenayak266@gmail.com\n"
     ]
    },
    {
     "name": "stdout",
     "output_type": "stream",
     "text": [
      "['jasminenayak266', 'gmail.com']\n"
     ]
    }
   ],
   "source": [
    "gmail = input(\"Enter gmails:\").split(\"@\")\n",
    "print(gmail)"
   ]
  },
  {
   "cell_type": "code",
   "execution_count": 40,
   "id": "76a30f05-d1ee-4984-8897-1ff7f8ee8686",
   "metadata": {},
   "outputs": [
    {
     "name": "stdout",
     "output_type": "stream",
     "text": [
      "<class 'int'>\n",
      "<class 'float'>\n"
     ]
    }
   ],
   "source": [
    "a = 3\n",
    "print(type(a))\n",
    "b = 3.0\n",
    "print(type(b))"
   ]
  },
  {
   "cell_type": "code",
   "execution_count": 43,
   "id": "0b54090e-f909-4e9f-939b-f5da9b8ed9e5",
   "metadata": {},
   "outputs": [
    {
     "data": {
      "text/plain": [
       "8.0"
      ]
     },
     "execution_count": 43,
     "metadata": {},
     "output_type": "execute_result"
    }
   ],
   "source": [
    "a = 3\n",
    "b = 5.0\n",
    "a+b"
   ]
  },
  {
   "cell_type": "code",
   "execution_count": 44,
   "id": "2bb84938-5da2-42fc-85f7-d132b9dafd57",
   "metadata": {},
   "outputs": [
    {
     "data": {
      "text/plain": [
       "9"
      ]
     },
     "execution_count": 44,
     "metadata": {},
     "output_type": "execute_result"
    }
   ],
   "source": [
    "b = 9.9\n",
    "int(b)\n"
   ]
  },
  {
   "cell_type": "code",
   "execution_count": 45,
   "id": "35d03b36-e2e6-4522-9a34-03fc24adcc2e",
   "metadata": {},
   "outputs": [
    {
     "data": {
      "text/plain": [
       "10.9"
      ]
     },
     "execution_count": 45,
     "metadata": {},
     "output_type": "execute_result"
    }
   ],
   "source": [
    "b = 9.9\n",
    "c = True\n",
    "b+c"
   ]
  },
  {
   "cell_type": "code",
   "execution_count": 46,
   "id": "47154d16-1d41-4d7d-aebc-2c644195a3d0",
   "metadata": {},
   "outputs": [
    {
     "data": {
      "text/plain": [
       "complex"
      ]
     },
     "execution_count": 46,
     "metadata": {},
     "output_type": "execute_result"
    }
   ],
   "source": [
    "x = 10+20j\n",
    "type(x)"
   ]
  },
  {
   "cell_type": "code",
   "execution_count": 47,
   "id": "e290dafd-0eca-41da-b16b-dea1d6433763",
   "metadata": {},
   "outputs": [
    {
     "data": {
      "text/plain": [
       "10.0"
      ]
     },
     "execution_count": 47,
     "metadata": {},
     "output_type": "execute_result"
    }
   ],
   "source": [
    "x.real"
   ]
  },
  {
   "cell_type": "code",
   "execution_count": 48,
   "id": "f499cd74-83fe-4a48-8a00-4a648c306af8",
   "metadata": {},
   "outputs": [
    {
     "data": {
      "text/plain": [
       "20.0"
      ]
     },
     "execution_count": 48,
     "metadata": {},
     "output_type": "execute_result"
    }
   ],
   "source": [
    "x.imag"
   ]
  },
  {
   "cell_type": "code",
   "execution_count": 50,
   "id": "63bb66e2-6694-4e9f-98ec-abd4327f1bd9",
   "metadata": {},
   "outputs": [
    {
     "data": {
      "text/plain": [
       "20"
      ]
     },
     "execution_count": 50,
     "metadata": {},
     "output_type": "execute_result"
    }
   ],
   "source": [
    "int(x.imag)"
   ]
  },
  {
   "cell_type": "code",
   "execution_count": 51,
   "id": "0a4e4206-3396-4a1c-a8c1-8bfced094ca0",
   "metadata": {},
   "outputs": [
    {
     "data": {
      "text/plain": [
       "str"
      ]
     },
     "execution_count": 51,
     "metadata": {},
     "output_type": "execute_result"
    }
   ],
   "source": [
    "var = \"123\"\n",
    "type(var)"
   ]
  },
  {
   "cell_type": "code",
   "execution_count": 52,
   "id": "99cf5790-f703-42fd-a93b-3e007a8e24a9",
   "metadata": {},
   "outputs": [
    {
     "data": {
      "text/plain": [
       "123"
      ]
     },
     "execution_count": 52,
     "metadata": {},
     "output_type": "execute_result"
    }
   ],
   "source": [
    "int(var)"
   ]
  },
  {
   "cell_type": "code",
   "execution_count": 53,
   "id": "27a7c2a7-6b64-4ef3-b7f7-2b4a6b28db45",
   "metadata": {},
   "outputs": [
    {
     "ename": "ValueError",
     "evalue": "invalid literal for int() with base 10: '123@gh'",
     "output_type": "error",
     "traceback": [
      "\u001b[1;31m---------------------------------------------------------------------------\u001b[0m",
      "\u001b[1;31mValueError\u001b[0m                                Traceback (most recent call last)",
      "Cell \u001b[1;32mIn[53], line 2\u001b[0m\n\u001b[0;32m      1\u001b[0m var \u001b[38;5;241m=\u001b[39m \u001b[38;5;124m\"\u001b[39m\u001b[38;5;124m123@gh\u001b[39m\u001b[38;5;124m\"\u001b[39m\n\u001b[1;32m----> 2\u001b[0m \u001b[38;5;28mint\u001b[39m(var)\n",
      "\u001b[1;31mValueError\u001b[0m: invalid literal for int() with base 10: '123@gh'"
     ]
    }
   ],
   "source": [
    "var = \"123@gh\"\n",
    "int(var)"
   ]
  },
  {
   "cell_type": "code",
   "execution_count": 55,
   "id": "f0c731fc-165c-4b3c-830a-592c79e54518",
   "metadata": {},
   "outputs": [
    {
     "name": "stdout",
     "output_type": "stream",
     "text": [
      "navin \"laptop\"\n"
     ]
    }
   ],
   "source": [
    "print('navin \"laptop\"')"
   ]
  },
  {
   "cell_type": "code",
   "execution_count": 57,
   "id": "994e27eb-9c5c-49ea-96ec-71a79db81239",
   "metadata": {},
   "outputs": [
    {
     "name": "stdout",
     "output_type": "stream",
     "text": [
      "navin's \"laptop\"\n"
     ]
    }
   ],
   "source": [
    "print('navin\\'s \"laptop\"')"
   ]
  },
  {
   "cell_type": "code",
   "execution_count": 58,
   "id": "f84bdc5f-c90f-49e3-8714-5334a7ecce0f",
   "metadata": {},
   "outputs": [
    {
     "ename": "TypeError",
     "evalue": "can only concatenate str (not \"int\") to str",
     "output_type": "error",
     "traceback": [
      "\u001b[1;31m---------------------------------------------------------------------------\u001b[0m",
      "\u001b[1;31mTypeError\u001b[0m                                 Traceback (most recent call last)",
      "Cell \u001b[1;32mIn[58], line 3\u001b[0m\n\u001b[0;32m      1\u001b[0m d \u001b[38;5;241m=\u001b[39m \u001b[38;5;124m\"\u001b[39m\u001b[38;5;124m3\u001b[39m\u001b[38;5;124m\"\u001b[39m\n\u001b[0;32m      2\u001b[0m e \u001b[38;5;241m=\u001b[39m \u001b[38;5;241m4\u001b[39m\n\u001b[1;32m----> 3\u001b[0m \u001b[38;5;28mprint\u001b[39m(d\u001b[38;5;241m+\u001b[39me)\n",
      "\u001b[1;31mTypeError\u001b[0m: can only concatenate str (not \"int\") to str"
     ]
    }
   ],
   "source": [
    "d = \"3\"\n",
    "e = 4\n",
    "print(d+e)"
   ]
  },
  {
   "cell_type": "code",
   "execution_count": 59,
   "id": "5f0e75c9-9742-4548-86d0-ee135a18f08d",
   "metadata": {},
   "outputs": [
    {
     "ename": "TypeError",
     "evalue": "can only concatenate str (not \"int\") to str",
     "output_type": "error",
     "traceback": [
      "\u001b[1;31m---------------------------------------------------------------------------\u001b[0m",
      "\u001b[1;31mTypeError\u001b[0m                                 Traceback (most recent call last)",
      "Cell \u001b[1;32mIn[59], line 1\u001b[0m\n\u001b[1;32m----> 1\u001b[0m \u001b[38;5;28mint\u001b[39m(d\u001b[38;5;241m+\u001b[39me)\n",
      "\u001b[1;31mTypeError\u001b[0m: can only concatenate str (not \"int\") to str"
     ]
    }
   ],
   "source": [
    "int(d+e)"
   ]
  },
  {
   "cell_type": "code",
   "execution_count": 60,
   "id": "5e7ca3c4-73c7-487e-a7c7-1a8aec8e7112",
   "metadata": {},
   "outputs": [
    {
     "data": {
      "text/plain": [
       "7"
      ]
     },
     "execution_count": 60,
     "metadata": {},
     "output_type": "execute_result"
    }
   ],
   "source": [
    "int(d)+e"
   ]
  },
  {
   "cell_type": "code",
   "execution_count": 61,
   "id": "168d8d52-fd0f-496e-8d55-a8a29547f2b0",
   "metadata": {},
   "outputs": [
    {
     "data": {
      "text/plain": [
       "34"
      ]
     },
     "execution_count": 61,
     "metadata": {},
     "output_type": "execute_result"
    }
   ],
   "source": [
    "int(d+str(e))"
   ]
  },
  {
   "cell_type": "code",
   "execution_count": 63,
   "id": "b6971a4e-34a1-4a6a-a919-45ce9512e35c",
   "metadata": {},
   "outputs": [
    {
     "data": {
      "text/plain": [
       "'jasminejasminejasminejasminejasmine'"
      ]
     },
     "execution_count": 63,
     "metadata": {},
     "output_type": "execute_result"
    }
   ],
   "source": [
    "\"jasmine\"*5"
   ]
  },
  {
   "cell_type": "code",
   "execution_count": 64,
   "id": "35ddc91c-7560-43f4-9877-5c5e6cf65ff3",
   "metadata": {},
   "outputs": [
    {
     "ename": "TypeError",
     "evalue": "'str' object does not support item assignment",
     "output_type": "error",
     "traceback": [
      "\u001b[1;31m---------------------------------------------------------------------------\u001b[0m",
      "\u001b[1;31mTypeError\u001b[0m                                 Traceback (most recent call last)",
      "Cell \u001b[1;32mIn[64], line 2\u001b[0m\n\u001b[0;32m      1\u001b[0m a \u001b[38;5;241m=\u001b[39m \u001b[38;5;124m\"\u001b[39m\u001b[38;5;124mjas\u001b[39m\u001b[38;5;124m\"\u001b[39m\n\u001b[1;32m----> 2\u001b[0m a[\u001b[38;5;241m1\u001b[39m]\u001b[38;5;241m=\u001b[39m\u001b[38;5;124m\"\u001b[39m\u001b[38;5;124mg\u001b[39m\u001b[38;5;124m\"\u001b[39m\n",
      "\u001b[1;31mTypeError\u001b[0m: 'str' object does not support item assignment"
     ]
    }
   ],
   "source": [
    "a = \"jas\"\n",
    "a[1]=\"g\""
   ]
  },
  {
   "cell_type": "code",
   "execution_count": 65,
   "id": "d78964c4-65f7-4516-b216-b9e6b8d0c6ba",
   "metadata": {},
   "outputs": [
    {
     "data": {
      "text/plain": [
       "'Good'"
      ]
     },
     "execution_count": 65,
     "metadata": {},
     "output_type": "execute_result"
    }
   ],
   "source": [
    "\"good\".capitalize()"
   ]
  },
  {
   "cell_type": "code",
   "execution_count": 66,
   "id": "854c7b19-10f8-4a5b-8e0a-bf62acaf5a62",
   "metadata": {},
   "outputs": [
    {
     "data": {
      "text/plain": [
       "'Good'"
      ]
     },
     "execution_count": 66,
     "metadata": {},
     "output_type": "execute_result"
    }
   ],
   "source": [
    "\"good\".title()"
   ]
  },
  {
   "cell_type": "code",
   "execution_count": 67,
   "id": "359b4239-c18f-4ffa-9f8b-0644f4f2f4ec",
   "metadata": {},
   "outputs": [
    {
     "data": {
      "text/plain": [
       "'GOOD'"
      ]
     },
     "execution_count": 67,
     "metadata": {},
     "output_type": "execute_result"
    }
   ],
   "source": [
    "\"good\".upper()"
   ]
  },
  {
   "cell_type": "code",
   "execution_count": 68,
   "id": "2389515d-223e-4e5f-9d05-f3200a988226",
   "metadata": {},
   "outputs": [
    {
     "data": {
      "text/plain": [
       "['this', 'is', 'a', 'laptop']"
      ]
     },
     "execution_count": 68,
     "metadata": {},
     "output_type": "execute_result"
    }
   ],
   "source": [
    "\"this is a laptop\".split()"
   ]
  },
  {
   "cell_type": "code",
   "execution_count": 70,
   "id": "e2822089-39b8-46ee-bcbb-a90e6f682cf0",
   "metadata": {},
   "outputs": [
    {
     "data": {
      "text/plain": [
       "'this is a laptop'"
      ]
     },
     "execution_count": 70,
     "metadata": {},
     "output_type": "execute_result"
    }
   ],
   "source": [
    "\" \".join(['this','is','a','laptop'])"
   ]
  },
  {
   "cell_type": "code",
   "execution_count": 71,
   "id": "12b79a14-2c86-4058-a656-91a1d1f14dc3",
   "metadata": {},
   "outputs": [
    {
     "data": {
      "text/plain": [
       "5"
      ]
     },
     "execution_count": 71,
     "metadata": {},
     "output_type": "execute_result"
    }
   ],
   "source": [
    "\"good morning\".find(\"m\")"
   ]
  },
  {
   "cell_type": "code",
   "execution_count": 73,
   "id": "658a8128-f1f5-48df-8e1c-c14782f53772",
   "metadata": {},
   "outputs": [
    {
     "data": {
      "text/plain": [
       "'good person'"
      ]
     },
     "execution_count": 73,
     "metadata": {},
     "output_type": "execute_result"
    }
   ],
   "source": [
    "s = \"bad person\"\n",
    "s.replace(\"bad\",\"good\")"
   ]
  },
  {
   "cell_type": "code",
   "execution_count": 76,
   "id": "98717330-d121-4866-9d1f-69033ffb0e69",
   "metadata": {},
   "outputs": [
    {
     "name": "stdin",
     "output_type": "stream",
     "text": [
      "Enter gmails: jasminenayak266@gmail.com\n",
      "enter 2nd gmail: rakesh@gmail.com\n",
      "enter 3rd gmail: snehal@gmail.com\n"
     ]
    },
    {
     "name": "stdout",
     "output_type": "stream",
     "text": [
      "the user id and domains are respectively: ['jasminenayak266', 'gmail.com'] ['rakesh', 'gmail.com'] ['snehal', 'gmail.com']\n"
     ]
    }
   ],
   "source": [
    "gmail = input(\"Enter gmails:\")\n",
    "gmail2 = input(\"enter 2nd gmail:\")\n",
    "gmail3 = input(\"enter 3rd gmail:\")\n",
    "print(\"the user id and domains are respectively:\", gmail.split(\"@\"),gmail2.split(\"@\"),gmail3.split(\"@\"))\n"
   ]
  },
  {
   "cell_type": "code",
   "execution_count": 77,
   "id": "9fc94ee2-5c3d-4787-8b4a-d9e47e3ab7a2",
   "metadata": {},
   "outputs": [
    {
     "name": "stdin",
     "output_type": "stream",
     "text": [
      "Enter gmails: jasminenayak266@gmail.com\n"
     ]
    },
    {
     "name": "stdout",
     "output_type": "stream",
     "text": [
      "['jasminenayak266', 'gmail.com']\n"
     ]
    }
   ],
   "source": [
    "gmail = input(\"Enter gmails:\").split(\"@\")\n",
    "print(gmail)"
   ]
  },
  {
   "cell_type": "code",
   "execution_count": 1,
   "id": "9d4e84f5-0c6c-40fc-a985-7dd758eb6590",
   "metadata": {},
   "outputs": [
    {
     "data": {
      "text/plain": [
       "[1, 2, 'jas', [765, 'js', 5]]"
      ]
     },
     "execution_count": 1,
     "metadata": {},
     "output_type": "execute_result"
    }
   ],
   "source": [
    "A = [1,2,\"jas\",[765,\"js\",5]]\n",
    "A"
   ]
  },
  {
   "cell_type": "code",
   "execution_count": 4,
   "id": "9926d914-0a69-4d1f-9c06-4eb5e0cc01d7",
   "metadata": {},
   "outputs": [
    {
     "name": "stdout",
     "output_type": "stream",
     "text": [
      "<class 'list'>\n"
     ]
    }
   ],
   "source": [
    "print(type(A))"
   ]
  },
  {
   "cell_type": "code",
   "execution_count": 3,
   "id": "e39625d8-bddd-403d-90c8-eea155899be7",
   "metadata": {},
   "outputs": [
    {
     "data": {
      "text/plain": [
       "[]"
      ]
     },
     "execution_count": 3,
     "metadata": {},
     "output_type": "execute_result"
    }
   ],
   "source": [
    "b = list()\n",
    "b"
   ]
  },
  {
   "cell_type": "code",
   "execution_count": 5,
   "id": "7d851a68-9a8a-4521-9b02-21a728e4fda7",
   "metadata": {},
   "outputs": [
    {
     "data": {
      "text/plain": [
       "4"
      ]
     },
     "execution_count": 5,
     "metadata": {},
     "output_type": "execute_result"
    }
   ],
   "source": [
    "len(A)"
   ]
  },
  {
   "cell_type": "code",
   "execution_count": 6,
   "id": "2aed74d3-d87d-4b85-ab62-955a4a5c8f00",
   "metadata": {},
   "outputs": [
    {
     "name": "stdout",
     "output_type": "stream",
     "text": [
      "4\n"
     ]
    }
   ],
   "source": [
    "print(len(A))"
   ]
  },
  {
   "cell_type": "code",
   "execution_count": 12,
   "id": "2b99c6b0-7dd9-4b48-9e03-00402b5363a6",
   "metadata": {},
   "outputs": [
    {
     "name": "stdout",
     "output_type": "stream",
     "text": [
      "5\n"
     ]
    }
   ],
   "source": [
    "print(A[3][2])"
   ]
  },
  {
   "cell_type": "code",
   "execution_count": 13,
   "id": "55944e89-bd3f-4178-99c6-31831cf787c7",
   "metadata": {},
   "outputs": [
    {
     "data": {
      "text/plain": [
       "'hello'"
      ]
     },
     "execution_count": 13,
     "metadata": {},
     "output_type": "execute_result"
    }
   ],
   "source": [
    "nest = [1,2,[3,4],[5,[100,200,[\"hello\"],23,11],1,7]]\n",
    "nest[3][1][2][0]"
   ]
  },
  {
   "cell_type": "code",
   "execution_count": 14,
   "id": "38790161-ed39-4a94-96b6-04c04bb6662a",
   "metadata": {},
   "outputs": [
    {
     "data": {
      "text/plain": [
       "[1, 2, [3, 4], [5, [100, 200, ['hello'], 23, 11], 32, 7]]"
      ]
     },
     "execution_count": 14,
     "metadata": {},
     "output_type": "execute_result"
    }
   ],
   "source": [
    "nest[3][2]=32\n",
    "nest"
   ]
  },
  {
   "cell_type": "code",
   "execution_count": 2,
   "id": "abb778bf-2a02-4ccf-9d4e-11b17546b8a4",
   "metadata": {},
   "outputs": [
    {
     "data": {
      "text/plain": [
       "[2, 3]"
      ]
     },
     "execution_count": 2,
     "metadata": {},
     "output_type": "execute_result"
    }
   ],
   "source": [
    "list = [1,2,3]\n",
    "del list[0]\n",
    "list"
   ]
  },
  {
   "cell_type": "code",
   "execution_count": 1,
   "id": "a5dce5e7-5b25-4dea-846f-8327a74a3ab6",
   "metadata": {},
   "outputs": [
    {
     "ename": "SyntaxError",
     "evalue": "cannot assign to literal here. Maybe you meant '==' instead of '='? (3289116489.py, line 1)",
     "output_type": "error",
     "traceback": [
      "\u001b[1;36m  Cell \u001b[1;32mIn[1], line 1\u001b[1;36m\u001b[0m\n\u001b[1;33m    1 = []\u001b[0m\n\u001b[1;37m    ^\u001b[0m\n\u001b[1;31mSyntaxError\u001b[0m\u001b[1;31m:\u001b[0m cannot assign to literal here. Maybe you meant '==' instead of '='?\n"
     ]
    }
   ],
   "source": [
    "1 = []\n",
    "1"
   ]
  },
  {
   "cell_type": "code",
   "execution_count": 2,
   "id": "4d9dfd43-7d30-4ba1-9424-5ab2455b7c8f",
   "metadata": {},
   "outputs": [
    {
     "data": {
      "text/plain": [
       "[]"
      ]
     },
     "execution_count": 2,
     "metadata": {},
     "output_type": "execute_result"
    }
   ],
   "source": [
    "l = []\n",
    "l"
   ]
  },
  {
   "cell_type": "code",
   "execution_count": 3,
   "id": "a24d97b4-104d-4c3f-a98a-2dbb9905e35b",
   "metadata": {},
   "outputs": [],
   "source": [
    "l = list()"
   ]
  },
  {
   "cell_type": "code",
   "execution_count": 4,
   "id": "552b71c8-a2d3-449c-8c79-c339cb429eed",
   "metadata": {},
   "outputs": [
    {
     "data": {
      "text/plain": [
       "[]"
      ]
     },
     "execution_count": 4,
     "metadata": {},
     "output_type": "execute_result"
    }
   ],
   "source": [
    "l"
   ]
  },
  {
   "cell_type": "markdown",
   "id": "fe6c5ae1-8767-4305-b2f0-76ed8a3395a7",
   "metadata": {},
   "source": [
    "l = [1,2,3]\n",
    "l"
   ]
  },
  {
   "cell_type": "code",
   "execution_count": 5,
   "id": "2f62be1a-414f-4789-bcf5-6db003ec977f",
   "metadata": {},
   "outputs": [
    {
     "data": {
      "text/plain": [
       "[1, 2, 3]"
      ]
     },
     "execution_count": 5,
     "metadata": {},
     "output_type": "execute_result"
    }
   ],
   "source": [
    "l = [1,2,3]\n",
    "l"
   ]
  },
  {
   "cell_type": "code",
   "execution_count": 8,
   "id": "f59832ad-f226-463f-bf40-a272c4e0362c",
   "metadata": {},
   "outputs": [
    {
     "data": {
      "text/plain": [
       "list"
      ]
     },
     "execution_count": 8,
     "metadata": {},
     "output_type": "execute_result"
    }
   ],
   "source": [
    "type(l)"
   ]
  },
  {
   "cell_type": "code",
   "execution_count": 9,
   "id": "ff2de02c-2558-4019-bb42-5270137b10bf",
   "metadata": {},
   "outputs": [
    {
     "data": {
      "text/plain": [
       "[1, 0.2, (1+3j), True, '2', 'rew']"
      ]
     },
     "execution_count": 9,
     "metadata": {},
     "output_type": "execute_result"
    }
   ],
   "source": [
    "li = [1,0.2,1+3j,True,'2','rew']\n",
    "li"
   ]
  },
  {
   "cell_type": "code",
   "execution_count": 10,
   "id": "be74f705-5d00-416f-9321-930a51ba35b5",
   "metadata": {},
   "outputs": [
    {
     "name": "stdout",
     "output_type": "stream",
     "text": [
      "[[1, 2], [3, 4], 1, 3]\n"
     ]
    }
   ],
   "source": [
    "list3 = [[1,2],[3,4],1,3]\n",
    "print(list3)"
   ]
  },
  {
   "cell_type": "code",
   "execution_count": 11,
   "id": "0f5dcf61-09b0-4d7d-8699-c602d8e61a2c",
   "metadata": {},
   "outputs": [
    {
     "name": "stdout",
     "output_type": "stream",
     "text": [
      "8\n"
     ]
    }
   ],
   "source": [
    "list = ['one', 'two', 'three', 'four',[1,2,3,4],3,4,[1,2]]\n",
    "print(len(list))"
   ]
  },
  {
   "cell_type": "code",
   "execution_count": 12,
   "id": "a5d45439-e9af-4b3c-b6b7-8e8e89647812",
   "metadata": {},
   "outputs": [
    {
     "data": {
      "text/plain": [
       "10"
      ]
     },
     "execution_count": 12,
     "metadata": {},
     "output_type": "execute_result"
    }
   ],
   "source": [
    "my_list = [10,20.5,'hello']\n",
    "my_list[0]"
   ]
  },
  {
   "cell_type": "code",
   "execution_count": 13,
   "id": "f5b75da6-9f18-456f-be2d-1a43b47addfd",
   "metadata": {},
   "outputs": [
    {
     "data": {
      "text/plain": [
       "'hello'"
      ]
     },
     "execution_count": 13,
     "metadata": {},
     "output_type": "execute_result"
    }
   ],
   "source": [
    "my_list[-1]"
   ]
  },
  {
   "cell_type": "code",
   "execution_count": 14,
   "id": "d793b32c-72c8-495c-9276-08a66170cb6a",
   "metadata": {},
   "outputs": [
    {
     "name": "stdout",
     "output_type": "stream",
     "text": [
      "hello\n"
     ]
    }
   ],
   "source": [
    "print(my_list[-1])"
   ]
  },
  {
   "cell_type": "code",
   "execution_count": 15,
   "id": "c2a77acc-245f-4646-908e-4e6bc3c4c8dd",
   "metadata": {},
   "outputs": [
    {
     "data": {
      "text/plain": [
       "['NEW', 20.5, 'hello']"
      ]
     },
     "execution_count": 15,
     "metadata": {},
     "output_type": "execute_result"
    }
   ],
   "source": [
    "my_list[0] = 'NEW'\n",
    "my_list"
   ]
  },
  {
   "cell_type": "code",
   "execution_count": 19,
   "id": "ec9d5592-9e5c-4326-b0e4-0f75484f75c8",
   "metadata": {},
   "outputs": [
    {
     "data": {
      "text/plain": [
       "['dead', 'b', 'c', 'a', 6, 4.0]"
      ]
     },
     "execution_count": 19,
     "metadata": {},
     "output_type": "execute_result"
    }
   ],
   "source": [
    "l1 = [\"dead\",'b','c']\n",
    "l2 = ['a',6,4.0]\n",
    "l1 + l2"
   ]
  },
  {
   "cell_type": "code",
   "execution_count": 20,
   "id": "590cc650-627a-40a9-ae79-3a69cd514623",
   "metadata": {},
   "outputs": [
    {
     "data": {
      "text/plain": [
       "['a', 'b', 'c', '5']"
      ]
     },
     "execution_count": 20,
     "metadata": {},
     "output_type": "execute_result"
    }
   ],
   "source": [
    "l = ['a','b','c']\n",
    "l.append('5')\n",
    "l"
   ]
  },
  {
   "cell_type": "code",
   "execution_count": 21,
   "id": "03f9e4f7-de17-450e-8c66-a4aa047bd72d",
   "metadata": {},
   "outputs": [
    {
     "data": {
      "text/plain": [
       "[1, 2, 3, 4, 5, 6, [8, 9]]"
      ]
     },
     "execution_count": 21,
     "metadata": {},
     "output_type": "execute_result"
    }
   ],
   "source": [
    "l = [1,2,3,4,5,6]\n",
    "l.append([8,9])\n",
    "l"
   ]
  },
  {
   "cell_type": "code",
   "execution_count": 24,
   "id": "68f01515-da5d-46dd-ae2e-bcbad899d50b",
   "metadata": {},
   "outputs": [
    {
     "data": {
      "text/plain": [
       "[1, 2, 3, 4, 5, 6, 8, 9]"
      ]
     },
     "execution_count": 24,
     "metadata": {},
     "output_type": "execute_result"
    }
   ],
   "source": [
    "l = [1,2,3,4,5,6]\n",
    "l.extend([8,9])\n",
    "l"
   ]
  },
  {
   "cell_type": "code",
   "execution_count": 25,
   "id": "82b83865-8bd9-462c-b900-986e39001022",
   "metadata": {},
   "outputs": [
    {
     "name": "stdout",
     "output_type": "stream",
     "text": [
      "['one', 1, 'two']\n"
     ]
    }
   ],
   "source": [
    "l = ['one','two']\n",
    "l.insert(1,1)\n",
    "print(l)"
   ]
  },
  {
   "cell_type": "code",
   "execution_count": 26,
   "id": "167e36ed-0411-47c4-9e0b-c5fa47170955",
   "metadata": {},
   "outputs": [
    {
     "data": {
      "text/plain": [
       "[20, 30, 40]"
      ]
     },
     "execution_count": 26,
     "metadata": {},
     "output_type": "execute_result"
    }
   ],
   "source": [
    "m = [10,20,30,40]\n",
    "m.remove(10)\n",
    "m"
   ]
  },
  {
   "cell_type": "code",
   "execution_count": 27,
   "id": "675e7d79-71a5-43ca-89a2-774464dc22e5",
   "metadata": {},
   "outputs": [
    {
     "name": "stdout",
     "output_type": "stream",
     "text": [
      "['one', 'three', 'four']\n"
     ]
    }
   ],
   "source": [
    "l = ['one',[1,2,'two'],'three','four']\n",
    "l.remove(l[1])\n",
    "print(l)"
   ]
  },
  {
   "cell_type": "code",
   "execution_count": 29,
   "id": "aaace93a-47f7-4149-bc35-168d31080156",
   "metadata": {},
   "outputs": [
    {
     "name": "stdout",
     "output_type": "stream",
     "text": [
      "[]\n"
     ]
    }
   ],
   "source": [
    "a = [1,2,3,4]\n",
    "a.clear()\n",
    "print(a)"
   ]
  },
  {
   "cell_type": "code",
   "execution_count": 30,
   "id": "904eec25-51fc-4ef9-bf28-a8f95118f241",
   "metadata": {},
   "outputs": [
    {
     "name": "stdout",
     "output_type": "stream",
     "text": [
      "[1, 2, 3, 4]\n"
     ]
    }
   ],
   "source": [
    "l = [1,2,3,4,5]\n",
    "l.pop()\n",
    "print(l)"
   ]
  },
  {
   "cell_type": "code",
   "execution_count": 31,
   "id": "7ef149ce-ff73-4675-b84e-3997c3418311",
   "metadata": {},
   "outputs": [
    {
     "name": "stdout",
     "output_type": "stream",
     "text": [
      "[1, 3, 4, 5]\n"
     ]
    }
   ],
   "source": [
    "l = [1,2,3,4,5]\n",
    "l.pop(1)\n",
    "print(l)"
   ]
  },
  {
   "cell_type": "code",
   "execution_count": 32,
   "id": "ebb564b0-9f88-4773-9e31-fc678aa33555",
   "metadata": {},
   "outputs": [
    {
     "name": "stdout",
     "output_type": "stream",
     "text": [
      "['two', 'three']\n"
     ]
    }
   ],
   "source": [
    "l = ['one','two','three']\n",
    "del l[0]\n",
    "print(l)"
   ]
  },
  {
   "cell_type": "code",
   "execution_count": 34,
   "id": "36957595-b22b-4610-86e3-9b97a9fbaaea",
   "metadata": {},
   "outputs": [
    {
     "name": "stdout",
     "output_type": "stream",
     "text": [
      "[3, 4, 5]\n"
     ]
    }
   ],
   "source": [
    "m = [1,2,3,4,5]\n",
    "del m[0:2]\n",
    "print(m)"
   ]
  },
  {
   "cell_type": "code",
   "execution_count": 38,
   "id": "06d3fc76-bf35-4503-968f-647936f8ce63",
   "metadata": {},
   "outputs": [
    {
     "name": "stdout",
     "output_type": "stream",
     "text": [
      "[40, 30, 20, 10]\n"
     ]
    }
   ],
   "source": [
    "list = [10,20,30,40]\n",
    "list.reverse()\n",
    "print(list)"
   ]
  },
  {
   "cell_type": "code",
   "execution_count": 39,
   "id": "79854dbd-571c-4e45-bed7-ddc0b3344c59",
   "metadata": {},
   "outputs": [
    {
     "data": {
      "text/plain": [
       "[1, 2, 3, 4]"
      ]
     },
     "execution_count": 39,
     "metadata": {},
     "output_type": "execute_result"
    }
   ],
   "source": [
    "n = [3,1,2,4]\n",
    "sorted(n)"
   ]
  },
  {
   "cell_type": "code",
   "execution_count": 40,
   "id": "98598f8a-7562-4f85-b2f5-08ef722612e3",
   "metadata": {},
   "outputs": [
    {
     "data": {
      "text/plain": [
       "[4, 3, 2, 1]"
      ]
     },
     "execution_count": 40,
     "metadata": {},
     "output_type": "execute_result"
    }
   ],
   "source": [
    "sorted(n,reverse=True)\n"
   ]
  },
  {
   "cell_type": "code",
   "execution_count": 41,
   "id": "5e8e075a-590a-4dcd-b914-04f238641b59",
   "metadata": {},
   "outputs": [
    {
     "data": {
      "text/plain": [
       "[1, 4.2, 5, 5, 5, 20]"
      ]
     },
     "execution_count": 41,
     "metadata": {},
     "output_type": "execute_result"
    }
   ],
   "source": [
    "l = [1,20,5,5,5,4.2]\n",
    "l.sort()\n",
    "l"
   ]
  },
  {
   "cell_type": "code",
   "execution_count": 42,
   "id": "5845c98e-6b30-401a-b57e-45957e935ec6",
   "metadata": {},
   "outputs": [
    {
     "ename": "TypeError",
     "evalue": "'<' not supported between instances of 'int' and 'str'",
     "output_type": "error",
     "traceback": [
      "\u001b[1;31m---------------------------------------------------------------------------\u001b[0m",
      "\u001b[1;31mTypeError\u001b[0m                                 Traceback (most recent call last)",
      "Cell \u001b[1;32mIn[42], line 2\u001b[0m\n\u001b[0;32m      1\u001b[0m l \u001b[38;5;241m=\u001b[39m [\u001b[38;5;124m'\u001b[39m\u001b[38;5;124ma\u001b[39m\u001b[38;5;124m'\u001b[39m,\u001b[38;5;241m10\u001b[39m,\u001b[38;5;241m20\u001b[39m,\u001b[38;5;124m'\u001b[39m\u001b[38;5;124mb\u001b[39m\u001b[38;5;124m'\u001b[39m]\n\u001b[1;32m----> 2\u001b[0m \u001b[38;5;28msorted\u001b[39m(l)\n",
      "\u001b[1;31mTypeError\u001b[0m: '<' not supported between instances of 'int' and 'str'"
     ]
    }
   ],
   "source": [
    "l = ['a',10,20,'b']\n",
    "sorted(l)"
   ]
  },
  {
   "cell_type": "code",
   "execution_count": 45,
   "id": "efabc420-60ce-4ad3-b36f-92a17f6c7faf",
   "metadata": {},
   "outputs": [
    {
     "name": "stdout",
     "output_type": "stream",
     "text": [
      "3\n"
     ]
    }
   ],
   "source": [
    "n = [1,2,3,1,1,0,3,4]\n",
    "print(n.count(1))"
   ]
  },
  {
   "cell_type": "code",
   "execution_count": 46,
   "id": "df497f4c-8068-4252-add5-ccc7d3f45a22",
   "metadata": {},
   "outputs": [
    {
     "name": "stdout",
     "output_type": "stream",
     "text": [
      "[1, 2, 3]\n"
     ]
    }
   ],
   "source": [
    "l = [1,2,3]\n",
    "l2 = l\n",
    "print(l2)"
   ]
  },
  {
   "cell_type": "code",
   "execution_count": 47,
   "id": "7abae0ea-ba29-40e5-bfd4-c40ecf11ed6c",
   "metadata": {},
   "outputs": [
    {
     "name": "stdout",
     "output_type": "stream",
     "text": [
      "[1, 2, 3, 4]\n"
     ]
    }
   ],
   "source": [
    "l2.append(4)\n",
    "print(l2)"
   ]
  },
  {
   "cell_type": "code",
   "execution_count": 48,
   "id": "e84306bc-68f0-4124-b5db-dbfe7a01df75",
   "metadata": {},
   "outputs": [
    {
     "data": {
      "text/plain": [
       "2"
      ]
     },
     "execution_count": 48,
     "metadata": {},
     "output_type": "execute_result"
    }
   ],
   "source": [
    "l = [1,20,5]\n",
    "l.index(5)"
   ]
  },
  {
   "cell_type": "code",
   "execution_count": 49,
   "id": "8963752c-af4d-4b9b-87c4-55bcb6fc807e",
   "metadata": {},
   "outputs": [
    {
     "data": {
      "text/plain": [
       "1"
      ]
     },
     "execution_count": 49,
     "metadata": {},
     "output_type": "execute_result"
    }
   ],
   "source": [
    "min(l)"
   ]
  },
  {
   "cell_type": "code",
   "execution_count": 50,
   "id": "9a9b5290-0db3-4d95-b16d-d6830df0a3f5",
   "metadata": {},
   "outputs": [
    {
     "data": {
      "text/plain": [
       "6"
      ]
     },
     "execution_count": 50,
     "metadata": {},
     "output_type": "execute_result"
    }
   ],
   "source": [
    "l = [1,2,3]\n",
    "sum(l)"
   ]
  },
  {
   "cell_type": "code",
   "execution_count": 6,
   "id": "d3459597-6537-4ed4-8512-75084c818e6a",
   "metadata": {},
   "outputs": [
    {
     "data": {
      "text/plain": [
       "tuple"
      ]
     },
     "execution_count": 6,
     "metadata": {},
     "output_type": "execute_result"
    }
   ],
   "source": [
    "tup1 = ()\n",
    "type(tup1)"
   ]
  },
  {
   "cell_type": "code",
   "execution_count": 7,
   "id": "dbee0b46-e3bf-4a3e-83fd-468a4605239e",
   "metadata": {},
   "outputs": [
    {
     "ename": "TypeError",
     "evalue": "'tuple' object is not callable",
     "output_type": "error",
     "traceback": [
      "\u001b[1;31m---------------------------------------------------------------------------\u001b[0m",
      "\u001b[1;31mTypeError\u001b[0m                                 Traceback (most recent call last)",
      "Cell \u001b[1;32mIn[7], line 1\u001b[0m\n\u001b[1;32m----> 1\u001b[0m tup2\u001b[38;5;241m=\u001b[39m\u001b[38;5;28mtuple\u001b[39m()\n\u001b[0;32m      2\u001b[0m \u001b[38;5;28mtype\u001b[39m(tup2)\n",
      "\u001b[1;31mTypeError\u001b[0m: 'tuple' object is not callable"
     ]
    }
   ],
   "source": [
    "tup2= tuple()\n",
    "type(tup2)"
   ]
  },
  {
   "cell_type": "code",
   "execution_count": 8,
   "id": "07f71597-bb64-448a-9e2d-2b3f8a80fd7e",
   "metadata": {},
   "outputs": [
    {
     "data": {
      "text/plain": [
       "(100, 'siva', 17.65)"
      ]
     },
     "execution_count": 8,
     "metadata": {},
     "output_type": "execute_result"
    }
   ],
   "source": [
    "tup3 = (100,'siva',17.65)\n",
    "tup3"
   ]
  },
  {
   "cell_type": "code",
   "execution_count": 9,
   "id": "c53fac65-114a-4a72-b9d5-cae555afe2a9",
   "metadata": {},
   "outputs": [],
   "source": [
    "tup4 = ('siva',25,(15,100),(150,90))"
   ]
  },
  {
   "cell_type": "code",
   "execution_count": 11,
   "id": "2190b62d-a09b-4a18-bb4f-9b8429465df0",
   "metadata": {},
   "outputs": [],
   "source": [
    "tup5 = ('siva',25,[50,100],[150,90],{'john','david'},(99,33,22))"
   ]
  },
  {
   "cell_type": "code",
   "execution_count": 12,
   "id": "304cb2d3-981e-4be6-bd88-ba9b6067efa7",
   "metadata": {},
   "outputs": [],
   "source": [
    "tup5[3][0] = 270"
   ]
  },
  {
   "cell_type": "code",
   "execution_count": 13,
   "id": "fa0d4923-7c89-47bd-a191-cf7495448075",
   "metadata": {},
   "outputs": [
    {
     "data": {
      "text/plain": [
       "('siva', 25, [50, 100], [270, 90], {'david', 'john'}, (99, 33, 22))"
      ]
     },
     "execution_count": 13,
     "metadata": {},
     "output_type": "execute_result"
    }
   ],
   "source": [
    "tup5"
   ]
  },
  {
   "cell_type": "code",
   "execution_count": 14,
   "id": "d132d667-4cb3-47c3-a3bc-f9ff66cb8e83",
   "metadata": {},
   "outputs": [
    {
     "data": {
      "text/plain": [
       "6"
      ]
     },
     "execution_count": 14,
     "metadata": {},
     "output_type": "execute_result"
    }
   ],
   "source": [
    "len(tup5)"
   ]
  },
  {
   "cell_type": "code",
   "execution_count": 15,
   "id": "12be9568-de93-40b5-84dd-c0db3aa4a5c5",
   "metadata": {},
   "outputs": [
    {
     "data": {
      "text/plain": [
       "50"
      ]
     },
     "execution_count": 15,
     "metadata": {},
     "output_type": "execute_result"
    }
   ],
   "source": [
    "tup5[2][0]"
   ]
  },
  {
   "cell_type": "code",
   "execution_count": 16,
   "id": "99d143ef-9d69-40bb-b38a-890ba58947ca",
   "metadata": {},
   "outputs": [
    {
     "data": {
      "text/plain": [
       "(150, 90)"
      ]
     },
     "execution_count": 16,
     "metadata": {},
     "output_type": "execute_result"
    }
   ],
   "source": [
    "tup4[-1]"
   ]
  },
  {
   "cell_type": "code",
   "execution_count": 26,
   "id": "a194bdca-81ed-4473-b324-4a7286f97030",
   "metadata": {},
   "outputs": [],
   "source": [
    "mytuple = ('xx', 'yy','zz')"
   ]
  },
  {
   "cell_type": "code",
   "execution_count": 27,
   "id": "a709462f-f78f-4db1-a4ef-1439a2718ece",
   "metadata": {},
   "outputs": [
    {
     "data": {
      "text/plain": [
       "('xx',)"
      ]
     },
     "execution_count": 27,
     "metadata": {},
     "output_type": "execute_result"
    }
   ],
   "source": [
    "mytuple[0:1]"
   ]
  },
  {
   "cell_type": "code",
   "execution_count": 9,
   "id": "867969e0-fb64-488a-93d8-2391490b1cfd",
   "metadata": {},
   "outputs": [
    {
     "ename": "TypeError",
     "evalue": "'tuple' object does not support item assignment",
     "output_type": "error",
     "traceback": [
      "\u001b[1;31m---------------------------------------------------------------------------\u001b[0m",
      "\u001b[1;31mTypeError\u001b[0m                                 Traceback (most recent call last)",
      "Cell \u001b[1;32mIn[9], line 1\u001b[0m\n\u001b[1;32m----> 1\u001b[0m mytuple[\u001b[38;5;241m0\u001b[39m]\u001b[38;5;241m=\u001b[39m\u001b[38;5;241m1\u001b[39m\n",
      "\u001b[1;31mTypeError\u001b[0m: 'tuple' object does not support item assignment"
     ]
    }
   ],
   "source": [
    "mytuple[0]=1"
   ]
  },
  {
   "cell_type": "code",
   "execution_count": 2,
   "id": "38decb11-2f01-4c36-a61c-7cf069a1e2c3",
   "metadata": {},
   "outputs": [],
   "source": [
    "mytuple1 = (1,2,3,4,1,2)"
   ]
  },
  {
   "cell_type": "code",
   "execution_count": 3,
   "id": "81eed9bb-158e-49d3-9121-b58fb5373d70",
   "metadata": {},
   "outputs": [
    {
     "data": {
      "text/plain": [
       "2"
      ]
     },
     "execution_count": 3,
     "metadata": {},
     "output_type": "execute_result"
    }
   ],
   "source": [
    "mytuple1.count(1)"
   ]
  },
  {
   "cell_type": "code",
   "execution_count": 4,
   "id": "e70013ee-5d3d-4512-9dae-3bdf6e6369ba",
   "metadata": {},
   "outputs": [
    {
     "data": {
      "text/plain": [
       "0"
      ]
     },
     "execution_count": 4,
     "metadata": {},
     "output_type": "execute_result"
    }
   ],
   "source": [
    "mytuple1.index(1)"
   ]
  },
  {
   "cell_type": "code",
   "execution_count": 5,
   "id": "7091bb10-f8a5-4e9d-a455-afef40a7ebc3",
   "metadata": {},
   "outputs": [],
   "source": [
    "mytuple=(2,3,4,5,6,8,1)"
   ]
  },
  {
   "cell_type": "code",
   "execution_count": 6,
   "id": "bda371d4-0cee-4ec4-87e7-6139744e6d2f",
   "metadata": {},
   "outputs": [
    {
     "data": {
      "text/plain": [
       "[1, 2, 3, 4, 5, 6, 8]"
      ]
     },
     "execution_count": 6,
     "metadata": {},
     "output_type": "execute_result"
    }
   ],
   "source": [
    "sorted(mytuple)"
   ]
  },
  {
   "cell_type": "code",
   "execution_count": 7,
   "id": "1f2b79a1-59b3-4767-9be7-c1c638a8a22d",
   "metadata": {},
   "outputs": [
    {
     "data": {
      "text/plain": [
       "[8, 6, 5, 4, 3, 2, 1]"
      ]
     },
     "execution_count": 7,
     "metadata": {},
     "output_type": "execute_result"
    }
   ],
   "source": [
    "sorted(mytuple,reverse= True)"
   ]
  },
  {
   "cell_type": "code",
   "execution_count": 8,
   "id": "343358be-7085-454d-a872-c7d1d2c69bbc",
   "metadata": {},
   "outputs": [
    {
     "data": {
      "text/plain": [
       "True"
      ]
     },
     "execution_count": 8,
     "metadata": {},
     "output_type": "execute_result"
    }
   ],
   "source": [
    "1 in mytuple"
   ]
  },
  {
   "cell_type": "code",
   "execution_count": 10,
   "id": "cddbb54f-ee7e-4623-a312-f4799bfeb2bd",
   "metadata": {},
   "outputs": [
    {
     "name": "stdout",
     "output_type": "stream",
     "text": [
      "set()\n",
      "<class 'set'>\n"
     ]
    }
   ],
   "source": [
    "set_var=set()\n",
    "print(set_var)\n",
    "print(type(set_var))"
   ]
  },
  {
   "cell_type": "code",
   "execution_count": 13,
   "id": "f6da8f75-c539-4a68-a608-ceb7dc1bd393",
   "metadata": {},
   "outputs": [
    {
     "name": "stdout",
     "output_type": "stream",
     "text": [
      "{5, 'a', 40, 10, 30}\n"
     ]
    }
   ],
   "source": [
    "a = {10,30,40,5,'a'}\n",
    "print(a)"
   ]
  },
  {
   "cell_type": "raw",
   "id": "d8b3c900-6638-4556-9fcc-db97604c6e2b",
   "metadata": {},
   "source": []
  },
  {
   "cell_type": "code",
   "execution_count": 14,
   "id": "9678a65a-a910-43c9-8bd7-1fc35ed32d30",
   "metadata": {},
   "outputs": [
    {
     "ename": "TypeError",
     "evalue": "'set' object is not subscriptable",
     "output_type": "error",
     "traceback": [
      "\u001b[1;31m---------------------------------------------------------------------------\u001b[0m",
      "\u001b[1;31mTypeError\u001b[0m                                 Traceback (most recent call last)",
      "Cell \u001b[1;32mIn[14], line 1\u001b[0m\n\u001b[1;32m----> 1\u001b[0m \u001b[38;5;28mprint\u001b[39m(a[\u001b[38;5;241m1\u001b[39m])\n",
      "\u001b[1;31mTypeError\u001b[0m: 'set' object is not subscriptable"
     ]
    }
   ],
   "source": [
    "print(a[1])"
   ]
  },
  {
   "cell_type": "code",
   "execution_count": 16,
   "id": "d61ab869-571f-47ce-a07f-0ef82871f03b",
   "metadata": {},
   "outputs": [
    {
     "name": "stdout",
     "output_type": "stream",
     "text": [
      "[1, 2, 3]\n"
     ]
    }
   ],
   "source": [
    "s = list(set([1,2,3,1,2]))\n",
    "print(s)"
   ]
  },
  {
   "cell_type": "code",
   "execution_count": 18,
   "id": "527b9147-7b66-45b2-8d6b-dfe719a9e29b",
   "metadata": {},
   "outputs": [
    {
     "data": {
      "text/plain": [
       "{3, 4, 5, 'a'}"
      ]
     },
     "execution_count": 18,
     "metadata": {},
     "output_type": "execute_result"
    }
   ],
   "source": [
    "c = set()\n",
    "c\n",
    "c.add(3)\n",
    "c.add(4)\n",
    "c.add(5)\n",
    "c.add('a')\n",
    "c"
   ]
  },
  {
   "cell_type": "code",
   "execution_count": 20,
   "id": "90c57db1-5f71-4c5a-aca6-93ae186aa51a",
   "metadata": {},
   "outputs": [
    {
     "name": "stdout",
     "output_type": "stream",
     "text": [
      "{1, 5, 6}\n"
     ]
    }
   ],
   "source": [
    "s = set()\n",
    "s.update([5,6,1])\n",
    "print(s)"
   ]
  },
  {
   "cell_type": "code",
   "execution_count": 21,
   "id": "e0956698-decd-4e83-b300-1969791f97ce",
   "metadata": {},
   "outputs": [
    {
     "data": {
      "text/plain": [
       "{1, 5, 6}"
      ]
     },
     "execution_count": 21,
     "metadata": {},
     "output_type": "execute_result"
    }
   ],
   "source": [
    "d = s.copy()\n",
    "d"
   ]
  },
  {
   "cell_type": "code",
   "execution_count": 22,
   "id": "102fb09a-163f-4ae9-934d-2da25374b928",
   "metadata": {},
   "outputs": [
    {
     "name": "stdout",
     "output_type": "stream",
     "text": [
      "{1, 2, 3, 4, 5}\n"
     ]
    }
   ],
   "source": [
    "s = {1,2,3,4,5,4}\n",
    "print(s)"
   ]
  },
  {
   "cell_type": "code",
   "execution_count": 24,
   "id": "332619da-15af-422a-80cd-22a0f336ea7f",
   "metadata": {},
   "outputs": [
    {
     "name": "stdout",
     "output_type": "stream",
     "text": [
      "{1, 2, 4, 5}\n"
     ]
    }
   ],
   "source": [
    "s.discard(3)\n",
    "print(s)"
   ]
  },
  {
   "cell_type": "code",
   "execution_count": 26,
   "id": "aa8644cf-ab17-4c2f-8e9e-6f3cbb3822a0",
   "metadata": {},
   "outputs": [
    {
     "name": "stdout",
     "output_type": "stream",
     "text": [
      "{1, 4, 5}\n"
     ]
    }
   ],
   "source": [
    "s.remove(2)\n",
    "print(s)"
   ]
  },
  {
   "cell_type": "raw",
   "id": "a52bae79-8858-4844-892b-2a97adcf45ab",
   "metadata": {},
   "source": []
  },
  {
   "cell_type": "code",
   "execution_count": 27,
   "id": "9293f541-c17f-45ed-8e8c-7b23d2393881",
   "metadata": {},
   "outputs": [
    {
     "name": "stdout",
     "output_type": "stream",
     "text": [
      "set()\n"
     ]
    }
   ],
   "source": [
    "s.clear()\n",
    "print(s)"
   ]
  },
  {
   "cell_type": "code",
   "execution_count": 28,
   "id": "6d16b197-33f2-4e8d-91e7-1229c9116083",
   "metadata": {},
   "outputs": [],
   "source": [
    "set1 = {1,2,3,4,5}\n",
    "set2 = {3,4,5,6,7}"
   ]
  },
  {
   "cell_type": "code",
   "execution_count": 29,
   "id": "58de81fb-7c31-455b-8a13-e3186a128ffb",
   "metadata": {},
   "outputs": [
    {
     "name": "stdout",
     "output_type": "stream",
     "text": [
      "{1, 2, 3, 4, 5, 6, 7}\n"
     ]
    }
   ],
   "source": [
    "print(set1|set2)"
   ]
  },
  {
   "cell_type": "code",
   "execution_count": 30,
   "id": "60262bbd-ad66-493f-89bc-68da8fc9bde7",
   "metadata": {},
   "outputs": [
    {
     "name": "stdout",
     "output_type": "stream",
     "text": [
      "{3, 4, 5}\n"
     ]
    }
   ],
   "source": [
    "print(set1 &set2)"
   ]
  },
  {
   "cell_type": "code",
   "execution_count": 31,
   "id": "3e1e5615-7fb7-45aa-94f5-a2309fd096e9",
   "metadata": {},
   "outputs": [
    {
     "name": "stdout",
     "output_type": "stream",
     "text": [
      "{1, 2}\n"
     ]
    }
   ],
   "source": [
    "print(set1-set2)"
   ]
  },
  {
   "cell_type": "code",
   "execution_count": 32,
   "id": "d51155c1-5c38-4122-b45c-4561a2e82366",
   "metadata": {},
   "outputs": [
    {
     "data": {
      "text/plain": [
       "{1, 2}"
      ]
     },
     "execution_count": 32,
     "metadata": {},
     "output_type": "execute_result"
    }
   ],
   "source": [
    "set1.difference_update(set2)\n",
    "set1"
   ]
  },
  {
   "cell_type": "code",
   "execution_count": 35,
   "id": "d6873d31-05ce-4750-a12e-666c11fdc982",
   "metadata": {},
   "outputs": [
    {
     "name": "stdout",
     "output_type": "stream",
     "text": [
      "{1, 2, 6, 7}\n"
     ]
    }
   ],
   "source": [
    "set1 = {1,2,3,4,5}\n",
    "set2 = {3,4,5,6,7}\n",
    "print(set1^set2)"
   ]
  },
  {
   "cell_type": "code",
   "execution_count": 36,
   "id": "994ebf7e-5c01-4971-8bbb-095926c8e5dc",
   "metadata": {},
   "outputs": [
    {
     "data": {
      "text/plain": [
       "True"
      ]
     },
     "execution_count": 36,
     "metadata": {},
     "output_type": "execute_result"
    }
   ],
   "source": [
    "c = {3,4,5}\n",
    "d = {3,4,5,6}\n",
    "c.issubset(d)"
   ]
  },
  {
   "cell_type": "code",
   "execution_count": 37,
   "id": "9209d4e7-f4c4-4c50-bd52-7b57d578065a",
   "metadata": {},
   "outputs": [
    {
     "data": {
      "text/plain": [
       "True"
      ]
     },
     "execution_count": 37,
     "metadata": {},
     "output_type": "execute_result"
    }
   ],
   "source": [
    "d.issuperset(c)"
   ]
  },
  {
   "cell_type": "code",
   "execution_count": 38,
   "id": "32c520cb-b6bf-43bf-9491-1a9dc4e1f277",
   "metadata": {},
   "outputs": [
    {
     "data": {
      "text/plain": [
       "False"
      ]
     },
     "execution_count": 38,
     "metadata": {},
     "output_type": "execute_result"
    }
   ],
   "source": [
    "c.isdisjoint(d)"
   ]
  },
  {
   "cell_type": "code",
   "execution_count": 39,
   "id": "64b3518a-fd01-4a9e-9b53-041ece72f461",
   "metadata": {},
   "outputs": [
    {
     "data": {
      "text/plain": [
       "dict"
      ]
     },
     "execution_count": 39,
     "metadata": {},
     "output_type": "execute_result"
    }
   ],
   "source": [
    "dic = {}\n",
    "type(dic)"
   ]
  },
  {
   "cell_type": "code",
   "execution_count": 40,
   "id": "dc110c17-975e-468f-bbfb-0f2508b6ade0",
   "metadata": {},
   "outputs": [
    {
     "name": "stdout",
     "output_type": "stream",
     "text": [
      "{}\n"
     ]
    }
   ],
   "source": [
    "print(dic)"
   ]
  },
  {
   "cell_type": "code",
   "execution_count": 41,
   "id": "04df4cc3-e2b4-4dba-bf73-2bd4ba0f1f84",
   "metadata": {},
   "outputs": [
    {
     "name": "stdout",
     "output_type": "stream",
     "text": [
      "{'key1': 3, 'key2': 2, 'key3': 1}\n"
     ]
    }
   ],
   "source": [
    "dict = {'key1': 3, 'key2':2,'key3':1}\n",
    "print(dict)"
   ]
  },
  {
   "cell_type": "code",
   "execution_count": 42,
   "id": "63228a36-7b45-41c1-b09c-dc9279b5c6a2",
   "metadata": {},
   "outputs": [
    {
     "data": {
      "text/plain": [
       "2"
      ]
     },
     "execution_count": 42,
     "metadata": {},
     "output_type": "execute_result"
    }
   ],
   "source": [
    "dict['key2']\n"
   ]
  },
  {
   "cell_type": "code",
   "execution_count": 43,
   "id": "dc56b63e-c9aa-4ac3-8585-068380f932a1",
   "metadata": {},
   "outputs": [
    {
     "data": {
      "text/plain": [
       "dict_keys(['key1', 'key2', 'key3'])"
      ]
     },
     "execution_count": 43,
     "metadata": {},
     "output_type": "execute_result"
    }
   ],
   "source": [
    "dict.keys()"
   ]
  },
  {
   "cell_type": "code",
   "execution_count": 44,
   "id": "dc07a4b5-ad89-4b9c-9a69-a0de5bf7e8a4",
   "metadata": {},
   "outputs": [
    {
     "data": {
      "text/plain": [
       "dict_values([3, 2, 1])"
      ]
     },
     "execution_count": 44,
     "metadata": {},
     "output_type": "execute_result"
    }
   ],
   "source": [
    "dict.values()"
   ]
  },
  {
   "cell_type": "code",
   "execution_count": 49,
   "id": "ff9ae93d-1357-48d4-af61-a7a430a5b3ad",
   "metadata": {},
   "outputs": [
    {
     "ename": "NameError",
     "evalue": "name 'yellow' is not defined",
     "output_type": "error",
     "traceback": [
      "\u001b[1;31m---------------------------------------------------------------------------\u001b[0m",
      "\u001b[1;31mNameError\u001b[0m                                 Traceback (most recent call last)",
      "Cell \u001b[1;32mIn[49], line 1\u001b[0m\n\u001b[1;32m----> 1\u001b[0m fruit1_h \u001b[38;5;241m=\u001b[39m {\u001b[38;5;124m'\u001b[39m\u001b[38;5;124mmango\u001b[39m\u001b[38;5;124m'\u001b[39m:yellow}\n\u001b[0;32m      2\u001b[0m fruit2_h \u001b[38;5;241m=\u001b[39m {\u001b[38;5;124m'\u001b[39m\u001b[38;5;124mstrawberry\u001b[39m\u001b[38;5;124m'\u001b[39m:red}\n\u001b[0;32m      3\u001b[0m fruits_type \u001b[38;5;241m=\u001b[39m {\u001b[38;5;124m'\u001b[39m\u001b[38;5;124mfruit1\u001b[39m\u001b[38;5;124m'\u001b[39m:fruit1_h,\u001b[38;5;124m'\u001b[39m\u001b[38;5;124mfruit2\u001b[39m\u001b[38;5;124m'\u001b[39m:fruit2_h}\n",
      "\u001b[1;31mNameError\u001b[0m: name 'yellow' is not defined"
     ]
    }
   ],
   "source": [
    "fruit1_h = {'mango':yellow}\n",
    "fruit2_h = {'strawberry':red}\n",
    "fruits_type = {'fruit1':fruit1_h,'fruit2':fruit2_h}\n",
    "print(fruits_type)"
   ]
  },
  {
   "cell_type": "code",
   "execution_count": 50,
   "id": "8e4f8b30-2cf4-45e4-b108-2b7a922fc078",
   "metadata": {},
   "outputs": [
    {
     "name": "stdout",
     "output_type": "stream",
     "text": [
      "{'car1': {'mercedes': 1960}, 'car2': {'audi': 1970}}\n"
     ]
    }
   ],
   "source": [
    "car1_model = {'mercedes': 1960}\n",
    "car2_model = {'audi':1970}\n",
    "car_type= {'car1':car1_model,'car2':car2_model}\n",
    "print(car_type)"
   ]
  },
  {
   "cell_type": "code",
   "execution_count": 52,
   "id": "b140bdb3-0edf-4d62-816f-9c51a05bedb0",
   "metadata": {},
   "outputs": [
    {
     "name": "stdout",
     "output_type": "stream",
     "text": [
      "{'mercedes': 1960}\n"
     ]
    }
   ],
   "source": [
    "print(car_type['car1'])"
   ]
  },
  {
   "cell_type": "code",
   "execution_count": 53,
   "id": "6b6dbc0a-029b-46b5-aa49-5471ec6eaf00",
   "metadata": {},
   "outputs": [
    {
     "name": "stdout",
     "output_type": "stream",
     "text": [
      "1960\n"
     ]
    }
   ],
   "source": [
    "print(car_type['car1']['mercedes'])"
   ]
  },
  {
   "cell_type": "code",
   "execution_count": 54,
   "id": "48ffbbe4-6220-4a3c-9ea1-4faf563649b4",
   "metadata": {},
   "outputs": [
    {
     "data": {
      "text/plain": [
       "{'car1': {'mercedes': 1960}, 'car2': {'audi': 1970}, 'audi': 2345}"
      ]
     },
     "execution_count": 54,
     "metadata": {},
     "output_type": "execute_result"
    }
   ],
   "source": [
    "car_type['audi']=2345\n",
    "car_type"
   ]
  },
  {
   "cell_type": "code",
   "execution_count": 55,
   "id": "3169e748-ffa0-4d7e-9640-38bdacfbd3e1",
   "metadata": {},
   "outputs": [
    {
     "ename": "NameError",
     "evalue": "name 'dict1' is not defined",
     "output_type": "error",
     "traceback": [
      "\u001b[1;31m---------------------------------------------------------------------------\u001b[0m",
      "\u001b[1;31mNameError\u001b[0m                                 Traceback (most recent call last)",
      "Cell \u001b[1;32mIn[55], line 1\u001b[0m\n\u001b[1;32m----> 1\u001b[0m dict1\n",
      "\u001b[1;31mNameError\u001b[0m: name 'dict1' is not defined"
     ]
    }
   ],
   "source": [
    "dict1\n"
   ]
  },
  {
   "cell_type": "code",
   "execution_count": 56,
   "id": "082a647a-947c-4092-9c87-2064b5a264ae",
   "metadata": {},
   "outputs": [
    {
     "data": {
      "text/plain": [
       "{'key1': 3, 'key2': 2, 'key3': 1}"
      ]
     },
     "execution_count": 56,
     "metadata": {},
     "output_type": "execute_result"
    }
   ],
   "source": [
    "dict"
   ]
  },
  {
   "cell_type": "code",
   "execution_count": 58,
   "id": "3db41bbd-53bb-4606-a0c7-c4c8a0ea4684",
   "metadata": {},
   "outputs": [
    {
     "data": {
      "text/plain": [
       "2"
      ]
     },
     "execution_count": 58,
     "metadata": {},
     "output_type": "execute_result"
    }
   ],
   "source": [
    "dict.pop('key2')"
   ]
  },
  {
   "cell_type": "markdown",
   "id": "2920ef31-3791-47bc-ab54-c79a82f8d386",
   "metadata": {},
   "source": []
  },
  {
   "cell_type": "code",
   "execution_count": 62,
   "id": "30a7f1e0-2c08-4817-947c-98be2fb8f4d3",
   "metadata": {},
   "outputs": [
    {
     "data": {
      "text/plain": [
       "3"
      ]
     },
     "execution_count": 62,
     "metadata": {},
     "output_type": "execute_result"
    }
   ],
   "source": [
    "mix_dict = {1:23,2:'sss','name':['jas','lucky']}\n",
    "len(mix_dict)"
   ]
  },
  {
   "cell_type": "code",
   "execution_count": 64,
   "id": "c1549dae-7897-4d73-a835-3f6f6e09307f",
   "metadata": {},
   "outputs": [
    {
     "data": {
      "text/plain": [
       "['jas', 'lucky']"
      ]
     },
     "execution_count": 64,
     "metadata": {},
     "output_type": "execute_result"
    }
   ],
   "source": [
    "mix_dict['name']"
   ]
  },
  {
   "cell_type": "code",
   "execution_count": 65,
   "id": "5d59ace1-813a-4287-abac-148c16919b54",
   "metadata": {},
   "outputs": [
    {
     "data": {
      "text/plain": [
       "'jas'"
      ]
     },
     "execution_count": 65,
     "metadata": {},
     "output_type": "execute_result"
    }
   ],
   "source": [
    "mix_dict['name'][0]"
   ]
  },
  {
   "cell_type": "code",
   "execution_count": null,
   "id": "52bad021-8a1d-44c1-b5e1-9b29c68cdbdd",
   "metadata": {},
   "outputs": [],
   "source": []
  }
 ],
 "metadata": {
  "kernelspec": {
   "display_name": "Python 3 (ipykernel)",
   "language": "python",
   "name": "python3"
  },
  "language_info": {
   "codemirror_mode": {
    "name": "ipython",
    "version": 3
   },
   "file_extension": ".py",
   "mimetype": "text/x-python",
   "name": "python",
   "nbconvert_exporter": "python",
   "pygments_lexer": "ipython3",
   "version": "3.11.7"
  }
 },
 "nbformat": 4,
 "nbformat_minor": 5
}
